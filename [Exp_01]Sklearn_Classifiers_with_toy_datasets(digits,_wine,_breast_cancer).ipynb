{
  "nbformat": 4,
  "nbformat_minor": 0,
  "metadata": {
    "colab": {
      "name": "[Exp-01]Sklearn Classifiers with toy datasets(digits, wine, breast cancer).ipynb",
      "provenance": [],
      "collapsed_sections": [],
      "authorship_tag": "ABX9TyNszPriNtw6yY4InRaBRod8",
      "include_colab_link": true
    },
    "kernelspec": {
      "name": "python3",
      "display_name": "Python 3"
    },
    "language_info": {
      "name": "python"
    }
  },
  "cells": [
    {
      "cell_type": "markdown",
      "metadata": {
        "id": "view-in-github",
        "colab_type": "text"
      },
      "source": [
        "<a href=\"https://colab.research.google.com/github/jx-dohwan/aiffel_FLMS/blob/main/%5BExp_01%5DSklearn_Classifiers_with_toy_datasets(digits%2C_wine%2C_breast_cancer).ipynb\" target=\"_parent\"><img src=\"https://colab.research.google.com/assets/colab-badge.svg\" alt=\"Open In Colab\"/></a>"
      ]
    },
    {
      "cell_type": "markdown",
      "source": [
        "# [Exp-01]Sklearn Classifiers with toy datasets(digits, wine, breast cancer)"
      ],
      "metadata": {
        "id": "vzL_KbNq9osp"
      }
    },
    {
      "cell_type": "markdown",
      "source": [
        "## 목차\n",
        "  - Step 1. Import\n",
        "  - Step 2. 데이터 준비\n",
        "  - Step 3. 데이터 이해하기\n",
        "  - step 4. train, test 데이터 분리하기\n",
        "  - step 5. 다양한 모델로 학습시켜 보기\n",
        "  - step 6. 평가\n",
        "  - 회고 "
      ],
      "metadata": {
        "id": "9J2pSA3RK5-Y"
      }
    },
    {
      "cell_type": "markdown",
      "source": [
        "## 1. 필요한 모듈 import 하기"
      ],
      "metadata": {
        "id": "omi7wxoH9xrd"
      }
    },
    {
      "cell_type": "code",
      "execution_count": 1,
      "metadata": {
        "id": "kP0Tf8xh9Uqh"
      },
      "outputs": [],
      "source": [
        "# 데이터셋\n",
        "from sklearn.datasets import load_wine\n",
        "from sklearn.datasets import load_digits\n",
        "from sklearn.datasets import load_breast_cancer\n",
        "# 데이터 분리및 평가지표\n",
        "from sklearn.model_selection import train_test_split\n",
        "from sklearn.metrics import classification_report\n",
        "from sklearn.metrics import accuracy_score\n",
        "# 모델\n",
        "from sklearn.tree import DecisionTreeClassifier\n",
        "from sklearn.ensemble import RandomForestClassifier\n",
        "from sklearn import svm\n",
        "from sklearn.linear_model import SGDClassifier\n",
        "from sklearn.linear_model import LogisticRegression"
      ]
    },
    {
      "cell_type": "markdown",
      "source": [
        "## 2. 데이터 준비하기\n"
      ],
      "metadata": {
        "id": "EO24WZ_TLTnf"
      }
    },
    {
      "cell_type": "code",
      "source": [
        "# 데이터 로드하기\n",
        "digits = load_digits()\n",
        "wine = load_wine()\n",
        "breast_cancer = load_breast_cancer()"
      ],
      "metadata": {
        "id": "U6UG5sNXLWXR"
      },
      "execution_count": 2,
      "outputs": []
    },
    {
      "cell_type": "markdown",
      "source": [
        "## 3. 데이터 이해하기"
      ],
      "metadata": {
        "id": "Mk2HT6MR9-2G"
      }
    },
    {
      "cell_type": "markdown",
      "source": [
        "### 1) digits 데이터 이해하기"
      ],
      "metadata": {
        "id": "vLYFyFXA-BiD"
      }
    },
    {
      "cell_type": "code",
      "source": [
        "# digits의 feature와 label 데이터를 지정 \n",
        "digits_data = digits.data\n",
        "digits_label = digits.target"
      ],
      "metadata": {
        "id": "5EHdXFN_9wlR"
      },
      "execution_count": 3,
      "outputs": []
    },
    {
      "cell_type": "code",
      "source": [
        "# Target Names 출력\n",
        "digits.target_names"
      ],
      "metadata": {
        "colab": {
          "base_uri": "https://localhost:8080/"
        },
        "id": "YWfKdAk8-poz",
        "outputId": "f922fe33-374a-4423-f346-c7fa2786790f"
      },
      "execution_count": 4,
      "outputs": [
        {
          "output_type": "execute_result",
          "data": {
            "text/plain": [
              "array([0, 1, 2, 3, 4, 5, 6, 7, 8, 9])"
            ]
          },
          "metadata": {},
          "execution_count": 4
        }
      ]
    },
    {
      "cell_type": "code",
      "source": [
        "# 데이터 Describe 해 보기\n",
        "print(digits.DESCR)"
      ],
      "metadata": {
        "colab": {
          "base_uri": "https://localhost:8080/"
        },
        "id": "u-0QWsUA_Gwm",
        "outputId": "4c9d9f99-9427-4825-92f1-9468eb9fb628"
      },
      "execution_count": 5,
      "outputs": [
        {
          "output_type": "stream",
          "name": "stdout",
          "text": [
            ".. _digits_dataset:\n",
            "\n",
            "Optical recognition of handwritten digits dataset\n",
            "--------------------------------------------------\n",
            "\n",
            "**Data Set Characteristics:**\n",
            "\n",
            "    :Number of Instances: 1797\n",
            "    :Number of Attributes: 64\n",
            "    :Attribute Information: 8x8 image of integer pixels in the range 0..16.\n",
            "    :Missing Attribute Values: None\n",
            "    :Creator: E. Alpaydin (alpaydin '@' boun.edu.tr)\n",
            "    :Date: July; 1998\n",
            "\n",
            "This is a copy of the test set of the UCI ML hand-written digits datasets\n",
            "https://archive.ics.uci.edu/ml/datasets/Optical+Recognition+of+Handwritten+Digits\n",
            "\n",
            "The data set contains images of hand-written digits: 10 classes where\n",
            "each class refers to a digit.\n",
            "\n",
            "Preprocessing programs made available by NIST were used to extract\n",
            "normalized bitmaps of handwritten digits from a preprinted form. From a\n",
            "total of 43 people, 30 contributed to the training set and different 13\n",
            "to the test set. 32x32 bitmaps are divided into nonoverlapping blocks of\n",
            "4x4 and the number of on pixels are counted in each block. This generates\n",
            "an input matrix of 8x8 where each element is an integer in the range\n",
            "0..16. This reduces dimensionality and gives invariance to small\n",
            "distortions.\n",
            "\n",
            "For info on NIST preprocessing routines, see M. D. Garris, J. L. Blue, G.\n",
            "T. Candela, D. L. Dimmick, J. Geist, P. J. Grother, S. A. Janet, and C.\n",
            "L. Wilson, NIST Form-Based Handprint Recognition System, NISTIR 5469,\n",
            "1994.\n",
            "\n",
            ".. topic:: References\n",
            "\n",
            "  - C. Kaynak (1995) Methods of Combining Multiple Classifiers and Their\n",
            "    Applications to Handwritten Digit Recognition, MSc Thesis, Institute of\n",
            "    Graduate Studies in Science and Engineering, Bogazici University.\n",
            "  - E. Alpaydin, C. Kaynak (1998) Cascading Classifiers, Kybernetika.\n",
            "  - Ken Tang and Ponnuthurai N. Suganthan and Xi Yao and A. Kai Qin.\n",
            "    Linear dimensionalityreduction using relevance weighted LDA. School of\n",
            "    Electrical and Electronic Engineering Nanyang Technological University.\n",
            "    2005.\n",
            "  - Claudio Gentile. A New Approximate Maximal Margin Classification\n",
            "    Algorithm. NIPS. 2000.\n",
            "\n"
          ]
        }
      ]
    },
    {
      "cell_type": "markdown",
      "source": [
        "### 2) wind 데이터 이해하기"
      ],
      "metadata": {
        "id": "7QHPuppe_OtM"
      }
    },
    {
      "cell_type": "code",
      "source": [
        "# wined의 feature와 label 데이터를 지정 \n",
        "wine_data = wine.data\n",
        "wine_label = wine.target"
      ],
      "metadata": {
        "id": "9uVLgmZh_Mxo"
      },
      "execution_count": 6,
      "outputs": []
    },
    {
      "cell_type": "code",
      "source": [
        "# Target Names 출력\n",
        "wine.target_names"
      ],
      "metadata": {
        "colab": {
          "base_uri": "https://localhost:8080/"
        },
        "id": "8aI6_CSP_ZQV",
        "outputId": "d689ff43-3a53-4455-e64c-896164c38b0f"
      },
      "execution_count": 7,
      "outputs": [
        {
          "output_type": "execute_result",
          "data": {
            "text/plain": [
              "array(['class_0', 'class_1', 'class_2'], dtype='<U7')"
            ]
          },
          "metadata": {},
          "execution_count": 7
        }
      ]
    },
    {
      "cell_type": "code",
      "source": [
        "# 데이터 Describe 해 보기\n",
        "print(wine.DESCR)"
      ],
      "metadata": {
        "colab": {
          "base_uri": "https://localhost:8080/"
        },
        "id": "8Awyfij6_kBH",
        "outputId": "b06da889-9aba-4bf9-af49-66242d761802"
      },
      "execution_count": 8,
      "outputs": [
        {
          "output_type": "stream",
          "name": "stdout",
          "text": [
            ".. _wine_dataset:\n",
            "\n",
            "Wine recognition dataset\n",
            "------------------------\n",
            "\n",
            "**Data Set Characteristics:**\n",
            "\n",
            "    :Number of Instances: 178 (50 in each of three classes)\n",
            "    :Number of Attributes: 13 numeric, predictive attributes and the class\n",
            "    :Attribute Information:\n",
            " \t\t- Alcohol\n",
            " \t\t- Malic acid\n",
            " \t\t- Ash\n",
            "\t\t- Alcalinity of ash  \n",
            " \t\t- Magnesium\n",
            "\t\t- Total phenols\n",
            " \t\t- Flavanoids\n",
            " \t\t- Nonflavanoid phenols\n",
            " \t\t- Proanthocyanins\n",
            "\t\t- Color intensity\n",
            " \t\t- Hue\n",
            " \t\t- OD280/OD315 of diluted wines\n",
            " \t\t- Proline\n",
            "\n",
            "    - class:\n",
            "            - class_0\n",
            "            - class_1\n",
            "            - class_2\n",
            "\t\t\n",
            "    :Summary Statistics:\n",
            "    \n",
            "    ============================= ==== ===== ======= =====\n",
            "                                   Min   Max   Mean     SD\n",
            "    ============================= ==== ===== ======= =====\n",
            "    Alcohol:                      11.0  14.8    13.0   0.8\n",
            "    Malic Acid:                   0.74  5.80    2.34  1.12\n",
            "    Ash:                          1.36  3.23    2.36  0.27\n",
            "    Alcalinity of Ash:            10.6  30.0    19.5   3.3\n",
            "    Magnesium:                    70.0 162.0    99.7  14.3\n",
            "    Total Phenols:                0.98  3.88    2.29  0.63\n",
            "    Flavanoids:                   0.34  5.08    2.03  1.00\n",
            "    Nonflavanoid Phenols:         0.13  0.66    0.36  0.12\n",
            "    Proanthocyanins:              0.41  3.58    1.59  0.57\n",
            "    Colour Intensity:              1.3  13.0     5.1   2.3\n",
            "    Hue:                          0.48  1.71    0.96  0.23\n",
            "    OD280/OD315 of diluted wines: 1.27  4.00    2.61  0.71\n",
            "    Proline:                       278  1680     746   315\n",
            "    ============================= ==== ===== ======= =====\n",
            "\n",
            "    :Missing Attribute Values: None\n",
            "    :Class Distribution: class_0 (59), class_1 (71), class_2 (48)\n",
            "    :Creator: R.A. Fisher\n",
            "    :Donor: Michael Marshall (MARSHALL%PLU@io.arc.nasa.gov)\n",
            "    :Date: July, 1988\n",
            "\n",
            "This is a copy of UCI ML Wine recognition datasets.\n",
            "https://archive.ics.uci.edu/ml/machine-learning-databases/wine/wine.data\n",
            "\n",
            "The data is the results of a chemical analysis of wines grown in the same\n",
            "region in Italy by three different cultivators. There are thirteen different\n",
            "measurements taken for different constituents found in the three types of\n",
            "wine.\n",
            "\n",
            "Original Owners: \n",
            "\n",
            "Forina, M. et al, PARVUS - \n",
            "An Extendible Package for Data Exploration, Classification and Correlation. \n",
            "Institute of Pharmaceutical and Food Analysis and Technologies,\n",
            "Via Brigata Salerno, 16147 Genoa, Italy.\n",
            "\n",
            "Citation:\n",
            "\n",
            "Lichman, M. (2013). UCI Machine Learning Repository\n",
            "[https://archive.ics.uci.edu/ml]. Irvine, CA: University of California,\n",
            "School of Information and Computer Science. \n",
            "\n",
            ".. topic:: References\n",
            "\n",
            "  (1) S. Aeberhard, D. Coomans and O. de Vel, \n",
            "  Comparison of Classifiers in High Dimensional Settings, \n",
            "  Tech. Rep. no. 92-02, (1992), Dept. of Computer Science and Dept. of  \n",
            "  Mathematics and Statistics, James Cook University of North Queensland. \n",
            "  (Also submitted to Technometrics). \n",
            "\n",
            "  The data was used with many others for comparing various \n",
            "  classifiers. The classes are separable, though only RDA \n",
            "  has achieved 100% correct classification. \n",
            "  (RDA : 100%, QDA 99.4%, LDA 98.9%, 1NN 96.1% (z-transformed data)) \n",
            "  (All results using the leave-one-out technique) \n",
            "\n",
            "  (2) S. Aeberhard, D. Coomans and O. de Vel, \n",
            "  \"THE CLASSIFICATION PERFORMANCE OF RDA\" \n",
            "  Tech. Rep. no. 92-01, (1992), Dept. of Computer Science and Dept. of \n",
            "  Mathematics and Statistics, James Cook University of North Queensland. \n",
            "  (Also submitted to Journal of Chemometrics).\n",
            "\n"
          ]
        }
      ]
    },
    {
      "cell_type": "markdown",
      "source": [
        "### 3) breast cancer 데이터 이해하기"
      ],
      "metadata": {
        "id": "pMfJuAgE_ueS"
      }
    },
    {
      "cell_type": "code",
      "source": [
        "# breast_cancer의 feature와 label 데이터를 지정 \n",
        "breast_cancer_data = breast_cancer.data\n",
        "breast_cancer_label = breast_cancer.target"
      ],
      "metadata": {
        "id": "x5GA4hBT_oyR"
      },
      "execution_count": 9,
      "outputs": []
    },
    {
      "cell_type": "code",
      "source": [
        "# Target Name 출력해보기\n",
        "breast_cancer.target_names"
      ],
      "metadata": {
        "colab": {
          "base_uri": "https://localhost:8080/"
        },
        "id": "wz1vRsRM_7_q",
        "outputId": "2af0f1ad-c714-4c30-ba71-7999ab384cf4"
      },
      "execution_count": 10,
      "outputs": [
        {
          "output_type": "execute_result",
          "data": {
            "text/plain": [
              "array(['malignant', 'benign'], dtype='<U9')"
            ]
          },
          "metadata": {},
          "execution_count": 10
        }
      ]
    },
    {
      "cell_type": "code",
      "source": [
        "# 데이터 Describe 해 보기\n",
        "print(breast_cancer.DESCR)"
      ],
      "metadata": {
        "colab": {
          "base_uri": "https://localhost:8080/"
        },
        "id": "qC4HYJXVAQOg",
        "outputId": "c1eba27d-c7a8-47f0-e87a-f39ccec26e2a"
      },
      "execution_count": 11,
      "outputs": [
        {
          "output_type": "stream",
          "name": "stdout",
          "text": [
            ".. _breast_cancer_dataset:\n",
            "\n",
            "Breast cancer wisconsin (diagnostic) dataset\n",
            "--------------------------------------------\n",
            "\n",
            "**Data Set Characteristics:**\n",
            "\n",
            "    :Number of Instances: 569\n",
            "\n",
            "    :Number of Attributes: 30 numeric, predictive attributes and the class\n",
            "\n",
            "    :Attribute Information:\n",
            "        - radius (mean of distances from center to points on the perimeter)\n",
            "        - texture (standard deviation of gray-scale values)\n",
            "        - perimeter\n",
            "        - area\n",
            "        - smoothness (local variation in radius lengths)\n",
            "        - compactness (perimeter^2 / area - 1.0)\n",
            "        - concavity (severity of concave portions of the contour)\n",
            "        - concave points (number of concave portions of the contour)\n",
            "        - symmetry\n",
            "        - fractal dimension (\"coastline approximation\" - 1)\n",
            "\n",
            "        The mean, standard error, and \"worst\" or largest (mean of the three\n",
            "        worst/largest values) of these features were computed for each image,\n",
            "        resulting in 30 features.  For instance, field 0 is Mean Radius, field\n",
            "        10 is Radius SE, field 20 is Worst Radius.\n",
            "\n",
            "        - class:\n",
            "                - WDBC-Malignant\n",
            "                - WDBC-Benign\n",
            "\n",
            "    :Summary Statistics:\n",
            "\n",
            "    ===================================== ====== ======\n",
            "                                           Min    Max\n",
            "    ===================================== ====== ======\n",
            "    radius (mean):                        6.981  28.11\n",
            "    texture (mean):                       9.71   39.28\n",
            "    perimeter (mean):                     43.79  188.5\n",
            "    area (mean):                          143.5  2501.0\n",
            "    smoothness (mean):                    0.053  0.163\n",
            "    compactness (mean):                   0.019  0.345\n",
            "    concavity (mean):                     0.0    0.427\n",
            "    concave points (mean):                0.0    0.201\n",
            "    symmetry (mean):                      0.106  0.304\n",
            "    fractal dimension (mean):             0.05   0.097\n",
            "    radius (standard error):              0.112  2.873\n",
            "    texture (standard error):             0.36   4.885\n",
            "    perimeter (standard error):           0.757  21.98\n",
            "    area (standard error):                6.802  542.2\n",
            "    smoothness (standard error):          0.002  0.031\n",
            "    compactness (standard error):         0.002  0.135\n",
            "    concavity (standard error):           0.0    0.396\n",
            "    concave points (standard error):      0.0    0.053\n",
            "    symmetry (standard error):            0.008  0.079\n",
            "    fractal dimension (standard error):   0.001  0.03\n",
            "    radius (worst):                       7.93   36.04\n",
            "    texture (worst):                      12.02  49.54\n",
            "    perimeter (worst):                    50.41  251.2\n",
            "    area (worst):                         185.2  4254.0\n",
            "    smoothness (worst):                   0.071  0.223\n",
            "    compactness (worst):                  0.027  1.058\n",
            "    concavity (worst):                    0.0    1.252\n",
            "    concave points (worst):               0.0    0.291\n",
            "    symmetry (worst):                     0.156  0.664\n",
            "    fractal dimension (worst):            0.055  0.208\n",
            "    ===================================== ====== ======\n",
            "\n",
            "    :Missing Attribute Values: None\n",
            "\n",
            "    :Class Distribution: 212 - Malignant, 357 - Benign\n",
            "\n",
            "    :Creator:  Dr. William H. Wolberg, W. Nick Street, Olvi L. Mangasarian\n",
            "\n",
            "    :Donor: Nick Street\n",
            "\n",
            "    :Date: November, 1995\n",
            "\n",
            "This is a copy of UCI ML Breast Cancer Wisconsin (Diagnostic) datasets.\n",
            "https://goo.gl/U2Uwz2\n",
            "\n",
            "Features are computed from a digitized image of a fine needle\n",
            "aspirate (FNA) of a breast mass.  They describe\n",
            "characteristics of the cell nuclei present in the image.\n",
            "\n",
            "Separating plane described above was obtained using\n",
            "Multisurface Method-Tree (MSM-T) [K. P. Bennett, \"Decision Tree\n",
            "Construction Via Linear Programming.\" Proceedings of the 4th\n",
            "Midwest Artificial Intelligence and Cognitive Science Society,\n",
            "pp. 97-101, 1992], a classification method which uses linear\n",
            "programming to construct a decision tree.  Relevant features\n",
            "were selected using an exhaustive search in the space of 1-4\n",
            "features and 1-3 separating planes.\n",
            "\n",
            "The actual linear program used to obtain the separating plane\n",
            "in the 3-dimensional space is that described in:\n",
            "[K. P. Bennett and O. L. Mangasarian: \"Robust Linear\n",
            "Programming Discrimination of Two Linearly Inseparable Sets\",\n",
            "Optimization Methods and Software 1, 1992, 23-34].\n",
            "\n",
            "This database is also available through the UW CS ftp server:\n",
            "\n",
            "ftp ftp.cs.wisc.edu\n",
            "cd math-prog/cpo-dataset/machine-learn/WDBC/\n",
            "\n",
            ".. topic:: References\n",
            "\n",
            "   - W.N. Street, W.H. Wolberg and O.L. Mangasarian. Nuclear feature extraction \n",
            "     for breast tumor diagnosis. IS&T/SPIE 1993 International Symposium on \n",
            "     Electronic Imaging: Science and Technology, volume 1905, pages 861-870,\n",
            "     San Jose, CA, 1993.\n",
            "   - O.L. Mangasarian, W.N. Street and W.H. Wolberg. Breast cancer diagnosis and \n",
            "     prognosis via linear programming. Operations Research, 43(4), pages 570-577, \n",
            "     July-August 1995.\n",
            "   - W.H. Wolberg, W.N. Street, and O.L. Mangasarian. Machine learning techniques\n",
            "     to diagnose breast cancer from fine-needle aspirates. Cancer Letters 77 (1994) \n",
            "     163-171.\n"
          ]
        }
      ]
    },
    {
      "cell_type": "markdown",
      "source": [
        "## 4.train, test 데이터 분리"
      ],
      "metadata": {
        "id": "EvFTAZIPBQpb"
      }
    },
    {
      "cell_type": "markdown",
      "source": [
        "### 1) digits 데이터분리"
      ],
      "metadata": {
        "id": "hbspCa8eHnFb"
      }
    },
    {
      "cell_type": "code",
      "source": [
        "X_digits_train, X_digits_test, y_digits_train, y_digits_test = train_test_split(digits_data,\n",
        "                                                                                digits_label,\n",
        "                                                                                test_size=0.2,\n",
        "                                                                                random_state=9)\n",
        "\n",
        "print('X_digits_train개수 : ',len(X_digits_train), ', X_digits_test개수 : ',len(X_digits_test))"
      ],
      "metadata": {
        "colab": {
          "base_uri": "https://localhost:8080/"
        },
        "id": "wssu2ER7AV4G",
        "outputId": "d5d2061e-227f-486b-85fb-fcf0cec54baa"
      },
      "execution_count": 12,
      "outputs": [
        {
          "output_type": "stream",
          "name": "stdout",
          "text": [
            "X_digits_train개수 :  1437 , X_digits_test개수 :  360\n"
          ]
        }
      ]
    },
    {
      "cell_type": "markdown",
      "source": [
        "### 2) wine 데이터 분리"
      ],
      "metadata": {
        "id": "HE1IHwQCHuqn"
      }
    },
    {
      "cell_type": "code",
      "source": [
        "X_wine_train, X_wine_test, y_wine_train, y_wine_test = train_test_split(wine_data,\n",
        "                                                                        wine_label,\n",
        "                                                                        test_size=0.2,\n",
        "                                                                        random_state=11)\n",
        "\n",
        "print('X_wine_train개수 : ',len(X_wine_train), ', X_wine_test개수 : ',len(X_wine_test))"
      ],
      "metadata": {
        "colab": {
          "base_uri": "https://localhost:8080/"
        },
        "id": "8xikGjfOB84H",
        "outputId": "59b71b7b-fb02-4a02-9957-2f1fbfcc34e7"
      },
      "execution_count": 13,
      "outputs": [
        {
          "output_type": "stream",
          "name": "stdout",
          "text": [
            "X_wine_train개수 :  142 , X_wine_test개수 :  36\n"
          ]
        }
      ]
    },
    {
      "cell_type": "markdown",
      "source": [
        "### 3) breast cancer 데이터 분리"
      ],
      "metadata": {
        "id": "NMZ71AB9HxiG"
      }
    },
    {
      "cell_type": "code",
      "source": [
        "X_breast_cancer_train, X_breast_cancer_test, y_breast_cancer_train, y_breast_cancer_test = train_test_split(breast_cancer_data,\n",
        "                                                                                                            breast_cancer_label,\n",
        "                                                                                                            test_size=0.2,\n",
        "                                                                                                            random_state=31)\n",
        "\n",
        "print('X_wbreast_cancer_train개수 : ',len(X_breast_cancer_train), ', X_breast_cancer_test개수 : ',len(X_breast_cancer_test))"
      ],
      "metadata": {
        "colab": {
          "base_uri": "https://localhost:8080/"
        },
        "id": "uYkr9DKSCMSl",
        "outputId": "18f2e8af-3bfd-47b0-e8b1-f83d55f3cedf"
      },
      "execution_count": 14,
      "outputs": [
        {
          "output_type": "stream",
          "name": "stdout",
          "text": [
            "X_wbreast_cancer_train개수 :  455 , X_breast_cancer_test개수 :  114\n"
          ]
        }
      ]
    },
    {
      "cell_type": "markdown",
      "source": [
        "## 5. 다양한 모델로 데이터 학습시키기"
      ],
      "metadata": {
        "id": "a3Zk_f3YImP5"
      }
    },
    {
      "cell_type": "markdown",
      "source": [
        "### 1) digits 데이터 학습시키기"
      ],
      "metadata": {
        "id": "0pqRR8RFVEeK"
      }
    },
    {
      "cell_type": "code",
      "source": [
        "# 모델로드하기\n",
        "d_decision_tree = DecisionTreeClassifier(random_state=1)\n",
        "d_random_forest = RandomForestClassifier(random_state=1)\n",
        "d_svm_model = svm.SVC()\n",
        "d_sgd_model = SGDClassifier()\n",
        "d_logistic_model = LogisticRegression(max_iter = 10**5) # max_iter가 너무 작아 오류가 생기니 임의로 데이터를 늘려준다.\n",
        "\n",
        "# 딕션트리\n",
        "d_decision_tree.fit(X_digits_train,y_digits_train)\n",
        "d_decision_tree_y_pred = d_decision_tree.predict(X_digits_test)\n",
        "\n",
        "#랜덤포레스트\n",
        "d_random_forest.fit(X_digits_train,y_digits_train)\n",
        "d_random_forest_y_pred = d_random_forest.predict(X_digits_test)\n",
        "\n",
        "#svm\n",
        "d_svm_model.fit(X_digits_train,y_digits_train)\n",
        "d_svm_model_y_pred = d_svm_model.predict(X_digits_test)\n",
        "\n",
        "#sgd\n",
        "d_sgd_model.fit(X_digits_train,y_digits_train)\n",
        "d_sgd_model_y_pred = d_sgd_model.predict(X_digits_test)\n",
        "\n",
        "#로지스틱\n",
        "d_logistic_model.fit(X_digits_train, y_digits_train)\n",
        "d_logistic_model_y_pred = d_logistic_model.predict(X_digits_test)"
      ],
      "metadata": {
        "id": "P2OkJ6mZCreT"
      },
      "execution_count": 15,
      "outputs": []
    },
    {
      "cell_type": "markdown",
      "source": [
        "### 2) wine 데이터 학습시키기"
      ],
      "metadata": {
        "id": "BQqBS9jrPkkR"
      }
    },
    {
      "cell_type": "code",
      "source": [
        "# 모델로드하기\n",
        "w_decision_tree = DecisionTreeClassifier(random_state=3)\n",
        "w_random_forest = RandomForestClassifier(random_state=3)\n",
        "w_svm_model = svm.SVC()\n",
        "w_sgd_model = SGDClassifier()\n",
        "w_logistic_model = LogisticRegression(max_iter = 10**5) # max_iter가 너무 작아 오류가 생기니 임의로 데이터를 늘려준다.\n",
        "\n",
        "# 딕션트리\n",
        "w_decision_tree.fit(X_wine_train,y_wine_train)\n",
        "w_decision_tree_y_pred = w_decision_tree.predict(X_wine_test)\n",
        "\n",
        "#랜덤포레스트\n",
        "w_random_forest.fit(X_wine_train,y_wine_train)\n",
        "w_random_forest_y_pred = w_random_forest.predict(X_wine_test)\n",
        "\n",
        "#svm\n",
        "w_svm_model.fit(X_wine_train,y_wine_train)\n",
        "w_svm_model_y_pred = w_svm_model.predict(X_wine_test)\n",
        "\n",
        "#sgd\n",
        "w_sgd_model.fit(X_wine_train,y_wine_train)\n",
        "w_sgd_model_y_pred = w_sgd_model.predict(X_wine_test)\n",
        "\n",
        "#로지스틱\n",
        "w_logistic_model.fit(X_wine_train, y_wine_train)\n",
        "w_logistic_model_y_pred = w_logistic_model.predict(X_wine_test)"
      ],
      "metadata": {
        "id": "025Qd1M3I4T0"
      },
      "execution_count": 16,
      "outputs": []
    },
    {
      "cell_type": "markdown",
      "source": [
        "### 3) breast cancer 데이터 학습시키기"
      ],
      "metadata": {
        "id": "6iBsR2o2V2Ct"
      }
    },
    {
      "cell_type": "code",
      "source": [
        "# 모델로드하기\n",
        "b_decision_tree = DecisionTreeClassifier(random_state=7)\n",
        "b_random_forest = RandomForestClassifier(random_state=7)\n",
        "b_svm_model = svm.SVC()\n",
        "b_sgd_model = SGDClassifier()\n",
        "b_logistic_model = LogisticRegression(max_iter = 10**5) # max_iter가 너무 작아 오류가 생기니 임의로 데이터를 늘려준다.\n",
        "\n",
        "# 딕션트리\n",
        "b_decision_tree.fit(X_breast_cancer_train,y_breast_cancer_train)\n",
        "b_decision_tree_y_pred = b_decision_tree.predict(X_breast_cancer_test)\n",
        "\n",
        "#랜덤포레스트\n",
        "b_random_forest.fit(X_breast_cancer_train,y_breast_cancer_train)\n",
        "b_random_forest_y_pred = b_random_forest.predict(X_breast_cancer_test)\n",
        "\n",
        "#svm\n",
        "b_svm_model.fit(X_breast_cancer_train,y_breast_cancer_train)\n",
        "b_svm_model_y_pred = b_svm_model.predict(X_breast_cancer_test)\n",
        "\n",
        "#sgd\n",
        "b_sgd_model.fit(X_breast_cancer_train,y_breast_cancer_train)\n",
        "b_sgd_model_y_pred = b_sgd_model.predict(X_breast_cancer_test)\n",
        "\n",
        "#로지스틱\n",
        "b_logistic_model.fit(X_breast_cancer_train, y_breast_cancer_train)\n",
        "b_logistic_model_y_pred = b_logistic_model.predict(X_breast_cancer_test)"
      ],
      "metadata": {
        "id": "xHp20LdUQAqR"
      },
      "execution_count": 17,
      "outputs": []
    },
    {
      "cell_type": "markdown",
      "source": [
        "## 6. 평가\n",
        "   - Confusion Matrix를 사용한 이유는 양성 데이터를 얼마나 많이 맞혔느냐도 중요하지만 음성 데이터를 얼마나 안 틀렸는냐도 중요하다. 따라서 정답과 오답을 구분하여 표현할 수 있는 방법이기 때문이다.\n",
        "   - classification_report 메서드를 활용하면 classification 분석을 평가하는데 가장 유용한 Confusion Matrix를 활용한 평가 지표를 한 눈에 확인할 수 있다. 확인할 수 있는 내용은 아래와 같다.\n",
        "    - precision(정밀도) : 양성 클래스라고 예측한 샘플중에 실제로 양성 클래스에 속하는 샘플\n",
        "    - recall(재현율) : 실제 양성 클래스에 속한 샘풀 중에 양성 클래스라고 예측한 샘풀\n",
        "    - f1-score : precision과 recall의 가중 조화평균, 둘 중 한 쪽이 높으면 다른 예측값은 떨어지기 때문에 조화를 맞출 필요성 때문에 사용\n",
        "    - support : 각 라벨의 실제 샘플 갯수\n",
        "    - accuracy(정확도) : 전체 샘풀 중 맞게 예측한 샘플수의 비율\n",
        "    - macro avg : 단순 평균으로 각 클래스별로 동일한 가중치를 부여(샘플 갯수 불균형을 고려하지 않음)\n",
        "    - weighted avg : 각 클래스에 속하는 포본의 갯수로 가중 평균을 냄(샘플 갯수의 불균형을 고려) "
      ],
      "metadata": {
        "id": "JvAwxETaZPDW"
      }
    },
    {
      "cell_type": "markdown",
      "source": [
        "### 1) digits 데이터 평가"
      ],
      "metadata": {
        "id": "Tvk-i10yZazT"
      }
    },
    {
      "cell_type": "code",
      "source": [
        "print('decision_tree\\n'+classification_report(y_digits_test,d_decision_tree_y_pred))\n",
        "print('random_forest\\n'+classification_report(y_digits_test,d_random_forest_y_pred))\n",
        "print('svm_model\\n'+classification_report(y_digits_test,d_svm_model_y_pred))\n",
        "print('sgd_mode\\n'+classification_report(y_digits_test,d_sgd_model_y_pred))\n",
        "print('logistic_mode\\n'+classification_report(y_digits_test,d_logistic_model_y_pred))"
      ],
      "metadata": {
        "colab": {
          "base_uri": "https://localhost:8080/"
        },
        "id": "6GJ822KoZsvX",
        "outputId": "25a3fd3a-ee62-487c-d032-a264de8fdc35"
      },
      "execution_count": 18,
      "outputs": [
        {
          "output_type": "stream",
          "name": "stdout",
          "text": [
            "decision_tree\n",
            "              precision    recall  f1-score   support\n",
            "\n",
            "           0       1.00      0.91      0.95        33\n",
            "           1       0.77      0.93      0.84        40\n",
            "           2       0.95      0.87      0.91        45\n",
            "           3       0.85      0.97      0.90        34\n",
            "           4       0.88      0.73      0.80        41\n",
            "           5       0.90      0.90      0.90        39\n",
            "           6       0.84      0.93      0.89        29\n",
            "           7       0.77      0.82      0.79        28\n",
            "           8       0.75      0.75      0.75        36\n",
            "           9       0.81      0.71      0.76        35\n",
            "\n",
            "    accuracy                           0.85       360\n",
            "   macro avg       0.85      0.85      0.85       360\n",
            "weighted avg       0.85      0.85      0.85       360\n",
            "\n",
            "random_forest\n",
            "              precision    recall  f1-score   support\n",
            "\n",
            "           0       1.00      0.97      0.98        33\n",
            "           1       1.00      1.00      1.00        40\n",
            "           2       1.00      1.00      1.00        45\n",
            "           3       1.00      1.00      1.00        34\n",
            "           4       0.97      0.93      0.95        41\n",
            "           5       1.00      0.97      0.99        39\n",
            "           6       1.00      1.00      1.00        29\n",
            "           7       0.90      0.93      0.91        28\n",
            "           8       0.97      0.94      0.96        36\n",
            "           9       0.90      1.00      0.95        35\n",
            "\n",
            "    accuracy                           0.97       360\n",
            "   macro avg       0.97      0.97      0.97       360\n",
            "weighted avg       0.98      0.97      0.98       360\n",
            "\n",
            "svm_model\n",
            "              precision    recall  f1-score   support\n",
            "\n",
            "           0       1.00      0.97      0.98        33\n",
            "           1       1.00      1.00      1.00        40\n",
            "           2       1.00      1.00      1.00        45\n",
            "           3       1.00      1.00      1.00        34\n",
            "           4       0.98      0.98      0.98        41\n",
            "           5       1.00      0.97      0.99        39\n",
            "           6       1.00      1.00      1.00        29\n",
            "           7       1.00      0.96      0.98        28\n",
            "           8       1.00      1.00      1.00        36\n",
            "           9       0.92      1.00      0.96        35\n",
            "\n",
            "    accuracy                           0.99       360\n",
            "   macro avg       0.99      0.99      0.99       360\n",
            "weighted avg       0.99      0.99      0.99       360\n",
            "\n",
            "sgd_mode\n",
            "              precision    recall  f1-score   support\n",
            "\n",
            "           0       1.00      0.97      0.98        33\n",
            "           1       0.95      0.93      0.94        40\n",
            "           2       1.00      0.96      0.98        45\n",
            "           3       0.89      1.00      0.94        34\n",
            "           4       0.95      0.95      0.95        41\n",
            "           5       1.00      0.92      0.96        39\n",
            "           6       0.97      1.00      0.98        29\n",
            "           7       0.93      0.89      0.91        28\n",
            "           8       0.89      0.89      0.89        36\n",
            "           9       0.89      0.97      0.93        35\n",
            "\n",
            "    accuracy                           0.95       360\n",
            "   macro avg       0.95      0.95      0.95       360\n",
            "weighted avg       0.95      0.95      0.95       360\n",
            "\n",
            "logistic_mode\n",
            "              precision    recall  f1-score   support\n",
            "\n",
            "           0       1.00      0.97      0.98        33\n",
            "           1       0.93      0.95      0.94        40\n",
            "           2       1.00      0.98      0.99        45\n",
            "           3       0.97      0.94      0.96        34\n",
            "           4       0.95      0.95      0.95        41\n",
            "           5       0.95      0.95      0.95        39\n",
            "           6       0.97      1.00      0.98        29\n",
            "           7       0.96      0.93      0.95        28\n",
            "           8       0.94      0.94      0.94        36\n",
            "           9       0.92      0.97      0.94        35\n",
            "\n",
            "    accuracy                           0.96       360\n",
            "   macro avg       0.96      0.96      0.96       360\n",
            "weighted avg       0.96      0.96      0.96       360\n",
            "\n"
          ]
        }
      ]
    },
    {
      "cell_type": "markdown",
      "source": [
        "### 2) wine 데이터 평가"
      ],
      "metadata": {
        "id": "oSyJ_sCoZhFq"
      }
    },
    {
      "cell_type": "code",
      "source": [
        "print('decision_tree\\n'+classification_report(y_wine_test,w_decision_tree_y_pred))\n",
        "print('random_forest\\n'+classification_report(y_wine_test,w_random_forest_y_pred))\n",
        "print('svm_model\\n'+classification_report(y_wine_test,w_svm_model_y_pred))\n",
        "print('sgd_mode\\n'+classification_report(y_wine_test,w_sgd_model_y_pred))\n",
        "print('logistic_mode\\n'+classification_report(y_wine_test,w_logistic_model_y_pred))"
      ],
      "metadata": {
        "colab": {
          "base_uri": "https://localhost:8080/"
        },
        "id": "QDQnJ2cqZtJj",
        "outputId": "0994ffe9-8585-47e8-b0f2-769ecb2659ef"
      },
      "execution_count": 19,
      "outputs": [
        {
          "output_type": "stream",
          "name": "stdout",
          "text": [
            "decision_tree\n",
            "              precision    recall  f1-score   support\n",
            "\n",
            "           0       0.93      1.00      0.97        14\n",
            "           1       1.00      0.87      0.93        15\n",
            "           2       0.88      1.00      0.93         7\n",
            "\n",
            "    accuracy                           0.94        36\n",
            "   macro avg       0.94      0.96      0.94        36\n",
            "weighted avg       0.95      0.94      0.94        36\n",
            "\n",
            "random_forest\n",
            "              precision    recall  f1-score   support\n",
            "\n",
            "           0       1.00      1.00      1.00        14\n",
            "           1       1.00      0.93      0.97        15\n",
            "           2       0.88      1.00      0.93         7\n",
            "\n",
            "    accuracy                           0.97        36\n",
            "   macro avg       0.96      0.98      0.97        36\n",
            "weighted avg       0.98      0.97      0.97        36\n",
            "\n",
            "svm_model\n",
            "              precision    recall  f1-score   support\n",
            "\n",
            "           0       0.93      1.00      0.97        14\n",
            "           1       0.75      0.80      0.77        15\n",
            "           2       0.40      0.29      0.33         7\n",
            "\n",
            "    accuracy                           0.78        36\n",
            "   macro avg       0.69      0.70      0.69        36\n",
            "weighted avg       0.75      0.78      0.76        36\n",
            "\n",
            "sgd_mode\n",
            "              precision    recall  f1-score   support\n",
            "\n",
            "           0       1.00      0.79      0.88        14\n",
            "           1       1.00      0.13      0.24        15\n",
            "           2       0.30      1.00      0.47         7\n",
            "\n",
            "    accuracy                           0.56        36\n",
            "   macro avg       0.77      0.64      0.53        36\n",
            "weighted avg       0.86      0.56      0.53        36\n",
            "\n",
            "logistic_mode\n",
            "              precision    recall  f1-score   support\n",
            "\n",
            "           0       1.00      1.00      1.00        14\n",
            "           1       1.00      0.93      0.97        15\n",
            "           2       0.88      1.00      0.93         7\n",
            "\n",
            "    accuracy                           0.97        36\n",
            "   macro avg       0.96      0.98      0.97        36\n",
            "weighted avg       0.98      0.97      0.97        36\n",
            "\n"
          ]
        }
      ]
    },
    {
      "cell_type": "markdown",
      "source": [
        "### 3) breast_cancer 데이터 평가"
      ],
      "metadata": {
        "id": "YopwA5KOZlxl"
      }
    },
    {
      "cell_type": "code",
      "source": [
        "print('decision_tree\\n'+classification_report(y_breast_cancer_test,b_decision_tree_y_pred))\n",
        "print('random_forest\\n'+classification_report(y_breast_cancer_test,b_random_forest_y_pred))\n",
        "print('svm_model\\n'+classification_report(y_breast_cancer_test,b_svm_model_y_pred))\n",
        "print('sgd_mode\\n'+classification_report(y_breast_cancer_test,b_sgd_model_y_pred))\n",
        "print('logistic_mode\\n'+classification_report(y_breast_cancer_test,b_logistic_model_y_pred))"
      ],
      "metadata": {
        "colab": {
          "base_uri": "https://localhost:8080/"
        },
        "id": "vZvaSeTBZtdx",
        "outputId": "26f6c94e-4b8a-449a-f75e-9b7cf0fb1e1c"
      },
      "execution_count": 20,
      "outputs": [
        {
          "output_type": "stream",
          "name": "stdout",
          "text": [
            "decision_tree\n",
            "              precision    recall  f1-score   support\n",
            "\n",
            "           0       0.93      0.87      0.90        47\n",
            "           1       0.91      0.96      0.93        67\n",
            "\n",
            "    accuracy                           0.92       114\n",
            "   macro avg       0.92      0.91      0.92       114\n",
            "weighted avg       0.92      0.92      0.92       114\n",
            "\n",
            "random_forest\n",
            "              precision    recall  f1-score   support\n",
            "\n",
            "           0       0.96      0.94      0.95        47\n",
            "           1       0.96      0.97      0.96        67\n",
            "\n",
            "    accuracy                           0.96       114\n",
            "   macro avg       0.96      0.95      0.95       114\n",
            "weighted avg       0.96      0.96      0.96       114\n",
            "\n",
            "svm_model\n",
            "              precision    recall  f1-score   support\n",
            "\n",
            "           0       0.97      0.68      0.80        47\n",
            "           1       0.81      0.99      0.89        67\n",
            "\n",
            "    accuracy                           0.86       114\n",
            "   macro avg       0.89      0.83      0.85       114\n",
            "weighted avg       0.88      0.86      0.85       114\n",
            "\n",
            "sgd_mode\n",
            "              precision    recall  f1-score   support\n",
            "\n",
            "           0       0.95      0.79      0.86        47\n",
            "           1       0.87      0.97      0.92        67\n",
            "\n",
            "    accuracy                           0.89       114\n",
            "   macro avg       0.91      0.88      0.89       114\n",
            "weighted avg       0.90      0.89      0.89       114\n",
            "\n",
            "logistic_mode\n",
            "              precision    recall  f1-score   support\n",
            "\n",
            "           0       0.93      0.89      0.91        47\n",
            "           1       0.93      0.96      0.94        67\n",
            "\n",
            "    accuracy                           0.93       114\n",
            "   macro avg       0.93      0.92      0.93       114\n",
            "weighted avg       0.93      0.93      0.93       114\n",
            "\n"
          ]
        }
      ]
    },
    {
      "cell_type": "markdown",
      "source": [
        "## 회고\n",
        "  - 프로젝트하면서 공부하게 된 점\n",
        "    - 클래스분류 모델에는 다음과 같은 여러가지 모델이 있다는 것을 알게 되었다. DecisionTreeClassifier, RandomForestClassifier, svm, SGDClassifier, LogisticRegression \n",
        "    - train_test_split와 RandomForest, DicisionTree를 사용할때 random_state의 값을 넣는데 이것은 호출할때마다 동일한 학습/테스트용 데이터 세트를 생성하기위해서 주어지는 난수 값이다.\n",
        "    - 문제인 feature와 답인 target를 모델에 맞게 먼저 학습한 후, 그 학습 방법으로 test feature로 학습을 한다. 마지막으로는 test feature학습값과 실제 test label을 비교하여 평가지표를 나타내는 학습과 예측 평가의 흐름을 파악할 수있었다.\n",
        "    - 평가지표의 종류와 의미를 공부할 수 있었다. 해당 부분은 위 평가지표 사용부분에 기입해놓았다.\n",
        "\n",
        "  - 프로젝트를 진행하면서 생긴 error사항\n",
        "    - LogisticRegression 모델을 사용할 때 max_iter가 너무 작아 오류가 생겨 임의로 갯수를 늘려주어 해당 문제를 해결 할 수 있었다. 이는 그루동료의 도움으로 함께 공부하는 중요성을 다시금 깨닫게 해주었다.\n",
        "\n",
        "  - 루브릭 평가지표를 맞추기 위해 시도한 것\n",
        "    - 평가문항 : 데이터셋 구성이 합리적으로 진행되었는가?, 5가지 모델을 성공적으로 적용하고 정상 수행되었는가, 평가지표가 적절히 선택되었는가?\n",
        "      - 데이터셋 구성을 합리적으로 하기 위하여 LMS에서 배운 내용을 토대로 코드를 짜보았다.\n",
        "      - 5가지 모델을 사용하였고 LogisticRegression에서 error가 생겼지만 잘 해결하여 정상작동하였다.\n",
        "      - 평가지표에 대해서 공부하기 위하여 LMS를 다시 공부하였고 다음 링크에 해당하는 블로그에서 다시 공부를 진행하였다.\n",
        "        - https://blog.naver.com/PostView.naver?blogId=hannaurora&logNo=222498671200&parentCategoryNo=&categoryNo=41&viewDate=&isShowPopularPosts=true&from=search\n",
        "\n",
        "  - 나의 다짐\n",
        "    - 이제 첫 exp 프로젝트를 진행하였다. 아직 머신러닝에 대한 뼈대를 익히고 있는 것 같다. 이 뼈대 제대로 익히고 여기에 살을 더 붙이기 위하여 정규시간 이외에도 따로 학습이 필요할 것 같다."
      ],
      "metadata": {
        "id": "HWXyNNqDe4Yp"
      }
    }
  ]
}