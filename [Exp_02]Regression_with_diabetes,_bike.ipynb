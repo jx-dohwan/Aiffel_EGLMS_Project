{
  "cells": [
    {
      "cell_type": "markdown",
      "metadata": {
        "id": "view-in-github",
        "colab_type": "text"
      },
      "source": [
        "<a href=\"https://colab.research.google.com/github/jx-dohwan/Aiffel_EGLMS_Project/blob/main/%5BExp_02%5DRegression_with_diabetes%2C_bike.ipynb\" target=\"_parent\"><img src=\"https://colab.research.google.com/assets/colab-badge.svg\" alt=\"Open In Colab\"/></a>"
      ]
    },
    {
      "cell_type": "markdown",
      "source": [
        "# [Exp-02]Regression with diabetes, bike\n",
        "\n"
      ],
      "metadata": {
        "id": "UfoquvhGhfY-"
      }
    },
    {
      "cell_type": "markdown",
      "metadata": {
        "id": "IfpvWaIraddC"
      },
      "source": [
        "# 프로젝트 1 : 손수 설계하는 선형회귀, 당뇨병 수치를 맞춰보자\n"
      ]
    },
    {
      "cell_type": "markdown",
      "metadata": {
        "id": "LcbBjzZyagmc"
      },
      "source": [
        "## 1.데이터 가져오기"
      ]
    },
    {
      "cell_type": "code",
      "execution_count": null,
      "metadata": {
        "id": "RmtO3Mj8aYgv"
      },
      "outputs": [],
      "source": [
        "from sklearn.datasets import load_diabetes\n",
        "from sklearn.model_selection import train_test_split\n",
        "import pandas as pd\n",
        "import matplotlib.pyplot as plt\n",
        "import numpy as np\n",
        "import seaborn as sns\n",
        "import matplotlib.pyplot as plt\n",
        "\n",
        "diabetes = load_diabetes()"
      ]
    },
    {
      "cell_type": "code",
      "execution_count": null,
      "metadata": {
        "id": "rVuWoHDnbALP"
      },
      "outputs": [],
      "source": [
        "df_X = diabetes.data\n",
        "df_y = diabetes.target"
      ]
    },
    {
      "cell_type": "markdown",
      "metadata": {
        "id": "8BnWMmW3bOZY"
      },
      "source": [
        "## 2. 모델에 입력할 데이터X 준비하기"
      ]
    },
    {
      "cell_type": "code",
      "execution_count": null,
      "metadata": {
        "colab": {
          "base_uri": "https://localhost:8080/"
        },
        "id": "dYidaCsRbMXC",
        "outputId": "1fd56ed2-c7cd-46ed-df56-4a6c9bbb816d"
      },
      "outputs": [
        {
          "output_type": "execute_result",
          "data": {
            "text/plain": [
              "array([[ 0.03807591,  0.05068012,  0.06169621, ..., -0.00259226,\n",
              "         0.01990842, -0.01764613],\n",
              "       [-0.00188202, -0.04464164, -0.05147406, ..., -0.03949338,\n",
              "        -0.06832974, -0.09220405],\n",
              "       [ 0.08529891,  0.05068012,  0.04445121, ..., -0.00259226,\n",
              "         0.00286377, -0.02593034],\n",
              "       ...,\n",
              "       [ 0.04170844,  0.05068012, -0.01590626, ..., -0.01107952,\n",
              "        -0.04687948,  0.01549073],\n",
              "       [-0.04547248, -0.04464164,  0.03906215, ...,  0.02655962,\n",
              "         0.04452837, -0.02593034],\n",
              "       [-0.04547248, -0.04464164, -0.0730303 , ..., -0.03949338,\n",
              "        -0.00421986,  0.00306441]])"
            ]
          },
          "metadata": {},
          "execution_count": 3
        }
      ],
      "source": [
        "# df_X에 있는 값들을 numpy array로 변환해서 저장해주세요.\n",
        "df_X = np.array(df_X)\n",
        "df_X"
      ]
    },
    {
      "cell_type": "markdown",
      "metadata": {
        "id": "lV5W9OeZeL3X"
      },
      "source": [
        "## 3. 모델을 예측할 데이터 y준비하기"
      ]
    },
    {
      "cell_type": "code",
      "execution_count": null,
      "metadata": {
        "colab": {
          "base_uri": "https://localhost:8080/"
        },
        "id": "XMzP3gqWeDP6",
        "outputId": "d563f88a-f929-44a3-dfb2-78b6e53b9dd9"
      },
      "outputs": [
        {
          "output_type": "execute_result",
          "data": {
            "text/plain": [
              "array([151.,  75., 141., 206., 135.,  97., 138.,  63., 110., 310., 101.,\n",
              "        69., 179., 185., 118., 171., 166., 144.,  97., 168.,  68.,  49.,\n",
              "        68., 245., 184., 202., 137.,  85., 131., 283., 129.,  59., 341.,\n",
              "        87.,  65., 102., 265., 276., 252.,  90., 100.,  55.,  61.,  92.,\n",
              "       259.,  53., 190., 142.,  75., 142., 155., 225.,  59., 104., 182.,\n",
              "       128.,  52.,  37., 170., 170.,  61., 144.,  52., 128.,  71., 163.,\n",
              "       150.,  97., 160., 178.,  48., 270., 202., 111.,  85.,  42., 170.,\n",
              "       200., 252., 113., 143.,  51.,  52., 210.,  65., 141.,  55., 134.,\n",
              "        42., 111.,  98., 164.,  48.,  96.,  90., 162., 150., 279.,  92.,\n",
              "        83., 128., 102., 302., 198.,  95.,  53., 134., 144., 232.,  81.,\n",
              "       104.,  59., 246., 297., 258., 229., 275., 281., 179., 200., 200.,\n",
              "       173., 180.,  84., 121., 161.,  99., 109., 115., 268., 274., 158.,\n",
              "       107.,  83., 103., 272.,  85., 280., 336., 281., 118., 317., 235.,\n",
              "        60., 174., 259., 178., 128.,  96., 126., 288.,  88., 292.,  71.,\n",
              "       197., 186.,  25.,  84.,  96., 195.,  53., 217., 172., 131., 214.,\n",
              "        59.,  70., 220., 268., 152.,  47.,  74., 295., 101., 151., 127.,\n",
              "       237., 225.,  81., 151., 107.,  64., 138., 185., 265., 101., 137.,\n",
              "       143., 141.,  79., 292., 178.,  91., 116.,  86., 122.,  72., 129.,\n",
              "       142.,  90., 158.,  39., 196., 222., 277.,  99., 196., 202., 155.,\n",
              "        77., 191.,  70.,  73.,  49.,  65., 263., 248., 296., 214., 185.,\n",
              "        78.,  93., 252., 150.,  77., 208.,  77., 108., 160.,  53., 220.,\n",
              "       154., 259.,  90., 246., 124.,  67.,  72., 257., 262., 275., 177.,\n",
              "        71.,  47., 187., 125.,  78.,  51., 258., 215., 303., 243.,  91.,\n",
              "       150., 310., 153., 346.,  63.,  89.,  50.,  39., 103., 308., 116.,\n",
              "       145.,  74.,  45., 115., 264.,  87., 202., 127., 182., 241.,  66.,\n",
              "        94., 283.,  64., 102., 200., 265.,  94., 230., 181., 156., 233.,\n",
              "        60., 219.,  80.,  68., 332., 248.,  84., 200.,  55.,  85.,  89.,\n",
              "        31., 129.,  83., 275.,  65., 198., 236., 253., 124.,  44., 172.,\n",
              "       114., 142., 109., 180., 144., 163., 147.,  97., 220., 190., 109.,\n",
              "       191., 122., 230., 242., 248., 249., 192., 131., 237.,  78., 135.,\n",
              "       244., 199., 270., 164.,  72.,  96., 306.,  91., 214.,  95., 216.,\n",
              "       263., 178., 113., 200., 139., 139.,  88., 148.,  88., 243.,  71.,\n",
              "        77., 109., 272.,  60.,  54., 221.,  90., 311., 281., 182., 321.,\n",
              "        58., 262., 206., 233., 242., 123., 167.,  63., 197.,  71., 168.,\n",
              "       140., 217., 121., 235., 245.,  40.,  52., 104., 132.,  88.,  69.,\n",
              "       219.,  72., 201., 110.,  51., 277.,  63., 118.,  69., 273., 258.,\n",
              "        43., 198., 242., 232., 175.,  93., 168., 275., 293., 281.,  72.,\n",
              "       140., 189., 181., 209., 136., 261., 113., 131., 174., 257.,  55.,\n",
              "        84.,  42., 146., 212., 233.,  91., 111., 152., 120.,  67., 310.,\n",
              "        94., 183.,  66., 173.,  72.,  49.,  64.,  48., 178., 104., 132.,\n",
              "       220.,  57.])"
            ]
          },
          "metadata": {},
          "execution_count": 4
        }
      ],
      "source": [
        "# df_y에 있는 값들을 numpy array로 변환해서 저장해주세요.\n",
        "df_y = np.array(df_y)\n",
        "df_y"
      ]
    },
    {
      "cell_type": "markdown",
      "metadata": {
        "id": "lClbJ3FRedtn"
      },
      "source": [
        "## 4. train과 test로 분리하기"
      ]
    },
    {
      "cell_type": "code",
      "execution_count": null,
      "metadata": {
        "colab": {
          "base_uri": "https://localhost:8080/"
        },
        "id": "eJpwvcR4eaSD",
        "outputId": "83afd3a4-7306-4f6e-8b39-f4c5b5b2919b"
      },
      "outputs": [
        {
          "output_type": "stream",
          "name": "stdout",
          "text": [
            "(309, 10) (309,)\n",
            "(133, 10) (133,)\n"
          ]
        }
      ],
      "source": [
        "X_train, X_test, y_train, y_test = train_test_split(df_X, df_y, test_size=0.3, random_state=7)\n",
        "\n",
        "print(X_train.shape, y_train.shape)\n",
        "print(X_test.shape, y_test.shape)"
      ]
    },
    {
      "cell_type": "markdown",
      "metadata": {
        "id": "6-VxaMyTewSM"
      },
      "source": [
        "## 5.모델준비하기"
      ]
    },
    {
      "cell_type": "code",
      "execution_count": null,
      "metadata": {
        "colab": {
          "base_uri": "https://localhost:8080/"
        },
        "id": "YHsQnO1iiwKH",
        "outputId": "ce5156b3-2b64-4e6b-efed-843058a77104"
      },
      "outputs": [
        {
          "output_type": "stream",
          "name": "stdout",
          "text": [
            "[0.00154109 0.61743282 0.50122561 0.03314708 0.53267254 0.64530824\n",
            " 0.68594469 0.45407489 0.82436461 0.30955487]\n",
            "0.09376839255060809\n"
          ]
        }
      ],
      "source": [
        "# 입력 데이터 개수에 맞는 가중치 W와 b를 준비\n",
        "\n",
        "W = np.random.rand(10)\n",
        "b = np.random.rand()\n",
        "print(W)\n",
        "print(b)"
      ]
    },
    {
      "cell_type": "code",
      "execution_count": null,
      "metadata": {
        "id": "sbfzS2m8eo2Y"
      },
      "outputs": [],
      "source": [
        "# 모델 함수를 구현해주세요\n",
        "\n",
        "def model(X, W, b):\n",
        "    predictions = 0\n",
        "    for i in range(10):\n",
        "        predictions += X[:, i] * W[i]\n",
        "    predictions += b\n",
        "    return predictions"
      ]
    },
    {
      "cell_type": "markdown",
      "metadata": {
        "id": "lmo-Ek6CjP7K"
      },
      "source": [
        "## 6.손실함수 loss 정의하기"
      ]
    },
    {
      "cell_type": "code",
      "execution_count": null,
      "metadata": {
        "id": "ZBHBsIAwjF6F"
      },
      "outputs": [],
      "source": [
        "# 손실함수를 MSE함수로 정의하기\n",
        "def MSE(a, b):\n",
        "    mse = ((a - b) ** 2).mean() \n",
        "    return mse\n",
        "\n",
        "# loss함수 정의하기\n",
        "def loss(X, W, b, y):\n",
        "    predictions = model(X, W, b)\n",
        "    L = MSE(predictions, y)\n",
        "    return L"
      ]
    },
    {
      "cell_type": "markdown",
      "metadata": {
        "id": "FiWyPaerjpsX"
      },
      "source": [
        "## 7.기울기를 구하는 gradient함수 구현하기"
      ]
    },
    {
      "cell_type": "code",
      "execution_count": null,
      "metadata": {
        "id": "1DOEqg3Jjtt-"
      },
      "outputs": [],
      "source": [
        "# 기울기를 계산하는 gradient 함수 구현해보기\n",
        "def gradient(X, W, b, y):\n",
        "    # N은 가중치의 개수\n",
        "    N = len(W)\n",
        "    \n",
        "    # y_pred 준비\n",
        "    y_pred = model(X, W, b)\n",
        "    \n",
        "    # 공식에 맞게 gradient 계산\n",
        "    dW = 1/N * 2 * X.T.dot(y_pred - y)\n",
        "        \n",
        "    # b의 gradient 계산\n",
        "    db = 2 * (y_pred - y).mean()\n",
        "    return dW, db"
      ]
    },
    {
      "cell_type": "code",
      "execution_count": null,
      "metadata": {
        "colab": {
          "base_uri": "https://localhost:8080/"
        },
        "id": "B4H0wiA1qhDp",
        "outputId": "d9d42e6b-41a9-4ea9-a5ca-13dfed6e4fd3"
      },
      "outputs": [
        {
          "output_type": "stream",
          "name": "stdout",
          "text": [
            "dW: [ -37.19433396   -3.57605912 -124.7879568   -98.93573625  -52.02167237\n",
            "  -48.97157236   98.64637378 -106.81821975 -126.56212284  -82.66955078]\n",
            "db: -304.52614788323916\n"
          ]
        }
      ],
      "source": [
        "dW, db = gradient(X_train, W, b, y_train)\n",
        "print(\"dW:\", dW)\n",
        "print(\"db:\", db)"
      ]
    },
    {
      "cell_type": "markdown",
      "metadata": {
        "id": "TDjjRtBdjxFD"
      },
      "source": [
        "## 8. 하이퍼파라미터인 학습률 설정하기"
      ]
    },
    {
      "cell_type": "code",
      "execution_count": null,
      "metadata": {
        "id": "ng_vCS-Njwp-"
      },
      "outputs": [],
      "source": [
        "# 학습률, learning rate를 설정해주세요\n",
        "LEARNING_RATE = 0.001"
      ]
    },
    {
      "cell_type": "code",
      "execution_count": null,
      "metadata": {
        "colab": {
          "base_uri": "https://localhost:8080/"
        },
        "id": "j_1qtATfj3vJ",
        "outputId": "6d4374cd-69da-4e1c-f67a-7c9d9289c324"
      },
      "outputs": [
        {
          "output_type": "stream",
          "name": "stdout",
          "text": [
            "Iteration 100 : Loss 21320.4982\n",
            "Iteration 200 : Loss 15985.4834\n",
            "Iteration 300 : Loss 12362.2924\n",
            "Iteration 400 : Loss 9890.5807\n",
            "Iteration 500 : Loss 8194.4317\n",
            "Iteration 600 : Loss 7021.5493\n",
            "Iteration 700 : Loss 6202.5118\n",
            "Iteration 800 : Loss 5623.4652\n",
            "Iteration 900 : Loss 5207.8244\n",
            "Iteration 1000 : Loss 4904.0071\n",
            "Iteration 1100 : Loss 4677.2131\n",
            "Iteration 1200 : Loss 4503.9122\n",
            "Iteration 1300 : Loss 4368.1486\n",
            "Iteration 1400 : Loss 4259.0619\n",
            "Iteration 1500 : Loss 4169.2243\n",
            "Iteration 1600 : Loss 4093.5243\n",
            "Iteration 1700 : Loss 4028.4163\n",
            "Iteration 1800 : Loss 3971.4176\n",
            "Iteration 1900 : Loss 3920.7685\n",
            "Iteration 2000 : Loss 3875.2043\n",
            "Iteration 2100 : Loss 3833.8009\n",
            "Iteration 2200 : Loss 3795.8706\n",
            "Iteration 2300 : Loss 3760.8913\n",
            "Iteration 2400 : Loss 3728.4579\n",
            "Iteration 2500 : Loss 3698.2501\n",
            "Iteration 2600 : Loss 3670.0088\n",
            "Iteration 2700 : Loss 3643.5209\n",
            "Iteration 2800 : Loss 3618.6080\n",
            "Iteration 2900 : Loss 3595.1184\n",
            "Iteration 3000 : Loss 3572.9217\n",
            "Iteration 3100 : Loss 3551.9046\n",
            "Iteration 3200 : Loss 3531.9677\n",
            "Iteration 3300 : Loss 3513.0232\n",
            "Iteration 3400 : Loss 3494.9932\n",
            "Iteration 3500 : Loss 3477.8082\n",
            "Iteration 3600 : Loss 3461.4059\n",
            "Iteration 3700 : Loss 3445.7304\n",
            "Iteration 3800 : Loss 3430.7312\n",
            "Iteration 3900 : Loss 3416.3627\n",
            "Iteration 4000 : Loss 3402.5837\n",
            "Iteration 4100 : Loss 3389.3567\n",
            "Iteration 4200 : Loss 3376.6475\n",
            "Iteration 4300 : Loss 3364.4251\n",
            "Iteration 4400 : Loss 3352.6611\n",
            "Iteration 4500 : Loss 3341.3296\n",
            "Iteration 4600 : Loss 3330.4067\n",
            "Iteration 4700 : Loss 3319.8707\n",
            "Iteration 4800 : Loss 3309.7013\n",
            "Iteration 4900 : Loss 3299.8802\n",
            "Iteration 5000 : Loss 3290.3900\n",
            "Iteration 5100 : Loss 3281.2151\n",
            "Iteration 5200 : Loss 3272.3406\n",
            "Iteration 5300 : Loss 3263.7530\n",
            "Iteration 5400 : Loss 3255.4395\n",
            "Iteration 5500 : Loss 3247.3883\n",
            "Iteration 5600 : Loss 3239.5883\n",
            "Iteration 5700 : Loss 3232.0292\n",
            "Iteration 5800 : Loss 3224.7011\n",
            "Iteration 5900 : Loss 3217.5950\n",
            "Iteration 6000 : Loss 3210.7022\n",
            "Iteration 6100 : Loss 3204.0148\n",
            "Iteration 6200 : Loss 3197.5249\n",
            "Iteration 6300 : Loss 3191.2254\n",
            "Iteration 6400 : Loss 3185.1094\n",
            "Iteration 6500 : Loss 3179.1705\n",
            "Iteration 6600 : Loss 3173.4023\n",
            "Iteration 6700 : Loss 3167.7991\n",
            "Iteration 6800 : Loss 3162.3552\n",
            "Iteration 6900 : Loss 3157.0653\n",
            "Iteration 7000 : Loss 3151.9243\n",
            "Iteration 7100 : Loss 3146.9274\n",
            "Iteration 7200 : Loss 3142.0698\n",
            "Iteration 7300 : Loss 3137.3470\n",
            "Iteration 7400 : Loss 3132.7549\n",
            "Iteration 7500 : Loss 3128.2893\n",
            "Iteration 7600 : Loss 3123.9462\n",
            "Iteration 7700 : Loss 3119.7219\n",
            "Iteration 7800 : Loss 3115.6127\n",
            "Iteration 7900 : Loss 3111.6151\n",
            "Iteration 8000 : Loss 3107.7257\n",
            "Iteration 8100 : Loss 3103.9413\n",
            "Iteration 8200 : Loss 3100.2586\n",
            "Iteration 8300 : Loss 3096.6748\n",
            "Iteration 8400 : Loss 3093.1868\n",
            "Iteration 8500 : Loss 3089.7918\n",
            "Iteration 8600 : Loss 3086.4872\n",
            "Iteration 8700 : Loss 3083.2702\n",
            "Iteration 8800 : Loss 3080.1384\n",
            "Iteration 8900 : Loss 3077.0892\n",
            "Iteration 9000 : Loss 3074.1203\n",
            "Iteration 9100 : Loss 3071.2294\n",
            "Iteration 9200 : Loss 3068.4142\n",
            "Iteration 9300 : Loss 3065.6726\n",
            "Iteration 9400 : Loss 3063.0025\n",
            "Iteration 9500 : Loss 3060.4019\n",
            "Iteration 9600 : Loss 3057.8688\n",
            "Iteration 9700 : Loss 3055.4013\n",
            "Iteration 9800 : Loss 3052.9975\n",
            "Iteration 9900 : Loss 3050.6557\n",
            "Iteration 10000 : Loss 3048.3742\n",
            "Iteration 10100 : Loss 3046.1512\n",
            "Iteration 10200 : Loss 3043.9851\n",
            "Iteration 10300 : Loss 3041.8744\n",
            "Iteration 10400 : Loss 3039.8176\n",
            "Iteration 10500 : Loss 3037.8130\n",
            "Iteration 10600 : Loss 3035.8594\n",
            "Iteration 10700 : Loss 3033.9553\n",
            "Iteration 10800 : Loss 3032.0993\n",
            "Iteration 10900 : Loss 3030.2901\n",
            "Iteration 11000 : Loss 3028.5265\n",
            "Iteration 11100 : Loss 3026.8071\n",
            "Iteration 11200 : Loss 3025.1309\n",
            "Iteration 11300 : Loss 3023.4966\n",
            "Iteration 11400 : Loss 3021.9031\n",
            "Iteration 11500 : Loss 3020.3493\n",
            "Iteration 11600 : Loss 3018.8340\n",
            "Iteration 11700 : Loss 3017.3564\n",
            "Iteration 11800 : Loss 3015.9153\n",
            "Iteration 11900 : Loss 3014.5098\n",
            "Iteration 12000 : Loss 3013.1389\n",
            "Iteration 12100 : Loss 3011.8018\n",
            "Iteration 12200 : Loss 3010.4974\n",
            "Iteration 12300 : Loss 3009.2250\n",
            "Iteration 12400 : Loss 3007.9836\n",
            "Iteration 12500 : Loss 3006.7725\n",
            "Iteration 12600 : Loss 3005.5908\n",
            "Iteration 12700 : Loss 3004.4378\n",
            "Iteration 12800 : Loss 3003.3127\n",
            "Iteration 12900 : Loss 3002.2148\n",
            "Iteration 13000 : Loss 3001.1434\n",
            "Iteration 13100 : Loss 3000.0977\n",
            "Iteration 13200 : Loss 2999.0771\n",
            "Iteration 13300 : Loss 2998.0810\n",
            "Iteration 13400 : Loss 2997.1086\n",
            "Iteration 13500 : Loss 2996.1594\n",
            "Iteration 13600 : Loss 2995.2327\n",
            "Iteration 13700 : Loss 2994.3281\n",
            "Iteration 13800 : Loss 2993.4448\n",
            "Iteration 13900 : Loss 2992.5824\n",
            "Iteration 14000 : Loss 2991.7403\n",
            "Iteration 14100 : Loss 2990.9180\n",
            "Iteration 14200 : Loss 2990.1150\n",
            "Iteration 14300 : Loss 2989.3308\n",
            "Iteration 14400 : Loss 2988.5648\n",
            "Iteration 14500 : Loss 2987.8167\n",
            "Iteration 14600 : Loss 2987.0859\n",
            "Iteration 14700 : Loss 2986.3721\n",
            "Iteration 14800 : Loss 2985.6748\n",
            "Iteration 14900 : Loss 2984.9935\n",
            "Iteration 15000 : Loss 2984.3279\n",
            "Iteration 15100 : Loss 2983.6775\n",
            "Iteration 15200 : Loss 2983.0421\n",
            "Iteration 15300 : Loss 2982.4211\n",
            "Iteration 15400 : Loss 2981.8142\n",
            "Iteration 15500 : Loss 2981.2212\n",
            "Iteration 15600 : Loss 2980.6415\n",
            "Iteration 15700 : Loss 2980.0750\n",
            "Iteration 15800 : Loss 2979.5212\n",
            "Iteration 15900 : Loss 2978.9798\n",
            "Iteration 16000 : Loss 2978.4506\n",
            "Iteration 16100 : Loss 2977.9332\n",
            "Iteration 16200 : Loss 2977.4273\n",
            "Iteration 16300 : Loss 2976.9327\n",
            "Iteration 16400 : Loss 2976.4490\n",
            "Iteration 16500 : Loss 2975.9760\n",
            "Iteration 16600 : Loss 2975.5135\n",
            "Iteration 16700 : Loss 2975.0611\n",
            "Iteration 16800 : Loss 2974.6186\n",
            "Iteration 16900 : Loss 2974.1858\n",
            "Iteration 17000 : Loss 2973.7624\n",
            "Iteration 17100 : Loss 2973.3482\n",
            "Iteration 17200 : Loss 2972.9430\n",
            "Iteration 17300 : Loss 2972.5465\n",
            "Iteration 17400 : Loss 2972.1586\n",
            "Iteration 17500 : Loss 2971.7790\n",
            "Iteration 17600 : Loss 2971.4075\n",
            "Iteration 17700 : Loss 2971.0440\n",
            "Iteration 17800 : Loss 2970.6882\n",
            "Iteration 17900 : Loss 2970.3399\n",
            "Iteration 18000 : Loss 2969.9990\n",
            "Iteration 18100 : Loss 2969.6653\n",
            "Iteration 18200 : Loss 2969.3386\n",
            "Iteration 18300 : Loss 2969.0188\n",
            "Iteration 18400 : Loss 2968.7056\n",
            "Iteration 18500 : Loss 2968.3990\n",
            "Iteration 18600 : Loss 2968.0987\n",
            "Iteration 18700 : Loss 2967.8046\n",
            "Iteration 18800 : Loss 2967.5165\n",
            "Iteration 18900 : Loss 2967.2344\n",
            "Iteration 19000 : Loss 2966.9581\n",
            "Iteration 19100 : Loss 2966.6874\n",
            "Iteration 19200 : Loss 2966.4222\n",
            "Iteration 19300 : Loss 2966.1624\n",
            "Iteration 19400 : Loss 2965.9078\n",
            "Iteration 19500 : Loss 2965.6583\n",
            "Iteration 19600 : Loss 2965.4139\n",
            "Iteration 19700 : Loss 2965.1743\n",
            "Iteration 19800 : Loss 2964.9395\n",
            "Iteration 19900 : Loss 2964.7093\n"
          ]
        }
      ],
      "source": [
        "# 만약 학습이 잘되지 않는다면 learning rate 한 번 여러가지로 설정하며 실험해 보세요.\n",
        "losses = []\n",
        "\n",
        "for i in range(1, 20000):\n",
        "    dW, db = gradient(X_train, W, b, y_train)\n",
        "    W -= LEARNING_RATE * dW\n",
        "    b -= LEARNING_RATE * db\n",
        "    L = loss(X_train, W, b, y_train)\n",
        "    losses.append(L)\n",
        "    if i % 100 == 0:\n",
        "        print('Iteration %d : Loss %0.4f' % (i, L))"
      ]
    },
    {
      "cell_type": "code",
      "execution_count": null,
      "metadata": {
        "colab": {
          "base_uri": "https://localhost:8080/",
          "height": 266
        },
        "id": "NDEjtET-rQQH",
        "outputId": "4eb45c6d-d73e-4031-f676-30bca1f59b5d"
      },
      "outputs": [
        {
          "output_type": "display_data",
          "data": {
            "text/plain": [
              "<Figure size 432x288 with 1 Axes>"
            ],
            "image/png": "[encoded data removed]"
          },
          "metadata": {
            "needs_background": "light"
          }
        }
      ],
      "source": [
        "import matplotlib.pyplot as plt\n",
        "plt.plot(losses)\n",
        "plt.show()"
      ]
    },
    {
      "cell_type": "markdown",
      "metadata": {
        "id": "VXRhDS02kCXo"
      },
      "source": [
        "## 9.모델 학습하기"
      ]
    },
    {
      "cell_type": "code",
      "execution_count": null,
      "metadata": {
        "id": "L97qOLmOj9pT"
      },
      "outputs": [],
      "source": [
        "# 정의된 손실함수와 기울기 함수로 모델을 학습해주세요.\n",
        "prediction = model(X_test, W, b)\n",
        "mse = loss(X_test, W, b, y_test)\n"
      ]
    },
    {
      "cell_type": "markdown",
      "metadata": {
        "id": "oeubz_LQkPgv"
      },
      "source": [
        "## 10.test 데이터에 대한 성능 확인하기"
      ]
    },
    {
      "cell_type": "code",
      "execution_count": null,
      "metadata": {
        "colab": {
          "base_uri": "https://localhost:8080/"
        },
        "id": "r0f0cGVXkOme",
        "outputId": "39408699-1500-4246-cab3-72ad79480eec"
      },
      "outputs": [
        {
          "output_type": "execute_result",
          "data": {
            "text/plain": [
              "2704.9581534205554"
            ]
          },
          "metadata": {},
          "execution_count": 15
        }
      ],
      "source": [
        "mse"
      ]
    },
    {
      "cell_type": "markdown",
      "metadata": {
        "id": "zwQJyf3ZkTZR"
      },
      "source": [
        "## 11.정답 데이터와 예측한 데이터 시각화하기"
      ]
    },
    {
      "cell_type": "code",
      "execution_count": null,
      "metadata": {
        "colab": {
          "base_uri": "https://localhost:8080/",
          "height": 265
        },
        "id": "mjpHPlCpkSyq",
        "outputId": "7c9d915e-fd8c-459e-e43d-4dfed070e8c0"
      },
      "outputs": [
        {
          "output_type": "display_data",
          "data": {
            "text/plain": [
              "<Figure size 432x288 with 1 Axes>"
            ],
            "image/png": "[encoded data removed]"
          },
          "metadata": {
            "needs_background": "light"
          }
        }
      ],
      "source": [
        "# x축에는 X 데이터의 첫 번째 컬럼을, y축에는 정답인 target 데이터를 넣어서 모델이 예측한 데이터를 시각화해 주세요.\\\n",
        "plt.scatter(X_test[:, 0], y_test)\n",
        "plt.scatter(X_test[:, 0], prediction)\n",
        "plt.show()"
      ]
    },
    {
      "cell_type": "markdown",
      "source": [
        "# 프로젝트 2 : 날씨 좋은 월요일 오후 세 시, 자전거 타는 사람은 몇 명?"
      ],
      "metadata": {
        "id": "IcAZXfu3wzQe"
      }
    },
    {
      "cell_type": "markdown",
      "source": [
        "## 1. 데이터 가져오기"
      ],
      "metadata": {
        "id": "NTMXtT10w5yI"
      }
    },
    {
      "cell_type": "code",
      "source": [
        "import pandas as pd\n",
        "import seaborn as sns\n",
        "import matplotlib.pyplot as plt\n",
        "\n",
        "%matplotlib inline"
      ],
      "metadata": {
        "id": "HFJvE1kjyGnb"
      },
      "execution_count": null,
      "outputs": []
    },
    {
      "cell_type": "code",
      "source": [
        "from google.colab import auth\n",
        "auth.authenticate_user()\n",
        "\n",
        "from google.colab import drive\n",
        "drive.mount('/content/gdrive', force_remount=False)"
      ],
      "metadata": {
        "colab": {
          "base_uri": "https://localhost:8080/"
        },
        "id": "Hayy9dWPxmkR",
        "outputId": "43653244-9429-4198-fde4-134f9eb2617f"
      },
      "execution_count": null,
      "outputs": [
        {
          "output_type": "stream",
          "name": "stdout",
          "text": [
            "Drive already mounted at /content/gdrive; to attempt to forcibly remount, call drive.mount(\"/content/gdrive\", force_remount=True).\n"
          ]
        }
      ]
    },
    {
      "cell_type": "code",
      "source": [
        "base_path = '/content/gdrive/MyDrive/인공지능/아이펠/ES/data'"
      ],
      "metadata": {
        "id": "bL8NmLFaxoU6"
      },
      "execution_count": null,
      "outputs": []
    },
    {
      "cell_type": "code",
      "source": [
        "train = pd.read_csv(base_path + '/train.csv')\n",
        "train.head()"
      ],
      "metadata": {
        "colab": {
          "base_uri": "https://localhost:8080/",
          "height": 444
        },
        "id": "ixiNxCgmx0hY",
        "outputId": "d6ec9e97-ef8c-4b7f-82ba-189397a7b7f5"
      },
      "execution_count": null,
      "outputs": [
        {
          "output_type": "execute_result",
          "data": {
            "text/plain": [
              "              datetime  season  holiday  workingday  weather  temp   atemp  \\\n",
              "0  2011-01-01 00:00:00       1        0           0        1  9.84  14.395   \n",
              "1  2011-01-01 01:00:00       1        0           0        1  9.02  13.635   \n",
              "2  2011-01-01 02:00:00       1        0           0        1  9.02  13.635   \n",
              "3  2011-01-01 03:00:00       1        0           0        1  9.84  14.395   \n",
              "4  2011-01-01 04:00:00       1        0           0        1  9.84  14.395   \n",
              "\n",
              "   humidity  windspeed  casual  registered  count  \n",
              "0        81        0.0       3          13     16  \n",
              "1        80        0.0       8          32     40  \n",
              "2        80        0.0       5          27     32  \n",
              "3        75        0.0       3          10     13  \n",
              "4        75        0.0       0           1      1  "
            ],
            "text/html": [
              "\n",
              "  <div id=\"df-ab1e72ce-dba2-4d37-ac28-f7c6448413ab\">\n",
              "    <div class=\"colab-df-container\">\n",
              "      <div>\n",
              "<style scoped>\n",
              "    .dataframe tbody tr th:only-of-type {\n",
              "        vertical-align: middle;\n",
              "    }\n",
              "\n",
              "    .dataframe tbody tr th {\n",
              "        vertical-align: top;\n",
              "    }\n",
              "\n",
              "    .dataframe thead th {\n",
              "        text-align: right;\n",
              "    }\n",
              "</style>\n",
              "<table border=\"1\" class=\"dataframe\">\n",
              "  <thead>\n",
              "    <tr style=\"text-align: right;\">\n",
              "      <th></th>\n",
              "      <th>datetime</th>\n",
              "      <th>season</th>\n",
              "      <th>holiday</th>\n",
              "      <th>workingday</th>\n",
              "      <th>weather</th>\n",
              "      <th>temp</th>\n",
              "      <th>atemp</th>\n",
              "      <th>humidity</th>\n",
              "      <th>windspeed</th>\n",
              "      <th>casual</th>\n",
              "      <th>registered</th>\n",
              "      <th>count</th>\n",
              "    </tr>\n",
              "  </thead>\n",
              "  <tbody>\n",
              "    <tr>\n",
              "      <th>0</th>\n",
              "      <td>2011-01-01 00:00:00</td>\n",
              "      <td>1</td>\n",
              "      <td>0</td>\n",
              "      <td>0</td>\n",
              "      <td>1</td>\n",
              "      <td>9.84</td>\n",
              "      <td>14.395</td>\n",
              "      <td>81</td>\n",
              "      <td>0.0</td>\n",
              "      <td>3</td>\n",
              "      <td>13</td>\n",
              "      <td>16</td>\n",
              "    </tr>\n",
              "    <tr>\n",
              "      <th>1</th>\n",
              "      <td>2011-01-01 01:00:00</td>\n",
              "      <td>1</td>\n",
              "      <td>0</td>\n",
              "      <td>0</td>\n",
              "      <td>1</td>\n",
              "      <td>9.02</td>\n",
              "      <td>13.635</td>\n",
              "      <td>80</td>\n",
              "      <td>0.0</td>\n",
              "      <td>8</td>\n",
              "      <td>32</td>\n",
              "      <td>40</td>\n",
              "    </tr>\n",
              "    <tr>\n",
              "      <th>2</th>\n",
              "      <td>2011-01-01 02:00:00</td>\n",
              "      <td>1</td>\n",
              "      <td>0</td>\n",
              "      <td>0</td>\n",
              "      <td>1</td>\n",
              "      <td>9.02</td>\n",
              "      <td>13.635</td>\n",
              "      <td>80</td>\n",
              "      <td>0.0</td>\n",
              "      <td>5</td>\n",
              "      <td>27</td>\n",
              "      <td>32</td>\n",
              "    </tr>\n",
              "    <tr>\n",
              "      <th>3</th>\n",
              "      <td>2011-01-01 03:00:00</td>\n",
              "      <td>1</td>\n",
              "      <td>0</td>\n",
              "      <td>0</td>\n",
              "      <td>1</td>\n",
              "      <td>9.84</td>\n",
              "      <td>14.395</td>\n",
              "      <td>75</td>\n",
              "      <td>0.0</td>\n",
              "      <td>3</td>\n",
              "      <td>10</td>\n",
              "      <td>13</td>\n",
              "    </tr>\n",
              "    <tr>\n",
              "      <th>4</th>\n",
              "      <td>2011-01-01 04:00:00</td>\n",
              "      <td>1</td>\n",
              "      <td>0</td>\n",
              "      <td>0</td>\n",
              "      <td>1</td>\n",
              "      <td>9.84</td>\n",
              "      <td>14.395</td>\n",
              "      <td>75</td>\n",
              "      <td>0.0</td>\n",
              "      <td>0</td>\n",
              "      <td>1</td>\n",
              "      <td>1</td>\n",
              "    </tr>\n",
              "  </tbody>\n",
              "</table>\n",
              "</div>\n",
              "      <button class=\"colab-df-convert\" onclick=\"convertToInteractive('df-ab1e72ce-dba2-4d37-ac28-f7c6448413ab')\"\n",
              "              title=\"Convert this dataframe to an interactive table.\"\n",
              "              style=\"display:none;\">\n",
              "        \n",
              "  <svg xmlns=\"http://www.w3.org/2000/svg\" height=\"24px\"viewBox=\"0 0 24 24\"\n",
              "       width=\"24px\">\n",
              "    <path d=\"M0 0h24v24H0V0z\" fill=\"none\"/>\n",
              "    <path d=\"M18.56 5.44l.94 2.06.94-2.06 2.06-.94-2.06-.94-.94-2.06-.94 2.06-2.06.94zm-11 1L8.5 8.5l.94-2.06 2.06-.94-2.06-.94L8.5 2.5l-.94 2.06-2.06.94zm10 10l.94 2.06.94-2.06 2.06-.94-2.06-.94-.94-2.06-.94 2.06-2.06.94z\"/><path d=\"M17.41 7.96l-1.37-1.37c-.4-.4-.92-.59-1.43-.59-.52 0-1.04.2-1.43.59L10.3 9.45l-7.72 7.72c-.78.78-.78 2.05 0 2.83L4 21.41c.39.39.9.59 1.41.59.51 0 1.02-.2 1.41-.59l7.78-7.78 2.81-2.81c.8-.78.8-2.07 0-2.86zM5.41 20L4 18.59l7.72-7.72 1.47 1.35L5.41 20z\"/>\n",
              "  </svg>\n",
              "      </button>\n",
              "      \n",
              "  <style>\n",
              "    .colab-df-container {\n",
              "      display:flex;\n",
              "      flex-wrap:wrap;\n",
              "      gap: 12px;\n",
              "    }\n",
              "\n",
              "    .colab-df-convert {\n",
              "      background-color: #E8F0FE;\n",
              "      border: none;\n",
              "      border-radius: 50%;\n",
              "      cursor: pointer;\n",
              "      display: none;\n",
              "      fill: #1967D2;\n",
              "      height: 32px;\n",
              "      padding: 0 0 0 0;\n",
              "      width: 32px;\n",
              "    }\n",
              "\n",
              "    .colab-df-convert:hover {\n",
              "      background-color: #E2EBFA;\n",
              "      box-shadow: 0px 1px 2px rgba(60, 64, 67, 0.3), 0px 1px 3px 1px rgba(60, 64, 67, 0.15);\n",
              "      fill: #174EA6;\n",
              "    }\n",
              "\n",
              "    [theme=dark] .colab-df-convert {\n",
              "      background-color: #3B4455;\n",
              "      fill: #D2E3FC;\n",
              "    }\n",
              "\n",
              "    [theme=dark] .colab-df-convert:hover {\n",
              "      background-color: #434B5C;\n",
              "      box-shadow: 0px 1px 3px 1px rgba(0, 0, 0, 0.15);\n",
              "      filter: drop-shadow(0px 1px 2px rgba(0, 0, 0, 0.3));\n",
              "      fill: #FFFFFF;\n",
              "    }\n",
              "  </style>\n",
              "\n",
              "      <script>\n",
              "        const buttonEl =\n",
              "          document.querySelector('#df-ab1e72ce-dba2-4d37-ac28-f7c6448413ab button.colab-df-convert');\n",
              "        buttonEl.style.display =\n",
              "          google.colab.kernel.accessAllowed ? 'block' : 'none';\n",
              "\n",
              "        async function convertToInteractive(key) {\n",
              "          const element = document.querySelector('#df-ab1e72ce-dba2-4d37-ac28-f7c6448413ab');\n",
              "          const dataTable =\n",
              "            await google.colab.kernel.invokeFunction('convertToInteractive',\n",
              "                                                     [key], {});\n",
              "          if (!dataTable) return;\n",
              "\n",
              "          const docLinkHtml = 'Like what you see? Visit the ' +\n",
              "            '<a target=\"_blank\" href=https://colab.research.google.com/notebooks/data_table.ipynb>data table notebook</a>'\n",
              "            + ' to learn more about interactive tables.';\n",
              "          element.innerHTML = '';\n",
              "          dataTable['output_type'] = 'display_data';\n",
              "          await google.colab.output.renderOutput(dataTable, element);\n",
              "          const docLink = document.createElement('div');\n",
              "          docLink.innerHTML = docLinkHtml;\n",
              "          element.appendChild(docLink);\n",
              "        }\n",
              "      </script>\n",
              "    </div>\n",
              "  </div>\n",
              "  "
            ]
          },
          "metadata": {},
          "execution_count": 20
        }
      ]
    },
    {
      "cell_type": "code",
      "source": [
        "train.info()"
      ],
      "metadata": {
        "colab": {
          "base_uri": "https://localhost:8080/"
        },
        "id": "hnsgNsTYx0bw",
        "outputId": "433ab60b-86d2-4cc5-b39f-f7cbde1bf38f"
      },
      "execution_count": null,
      "outputs": [
        {
          "output_type": "stream",
          "name": "stdout",
          "text": [
            "<class 'pandas.core.frame.DataFrame'>\n",
            "RangeIndex: 10886 entries, 0 to 10885\n",
            "Data columns (total 12 columns):\n",
            " #   Column      Non-Null Count  Dtype  \n",
            "---  ------      --------------  -----  \n",
            " 0   datetime    10886 non-null  object \n",
            " 1   season      10886 non-null  int64  \n",
            " 2   holiday     10886 non-null  int64  \n",
            " 3   workingday  10886 non-null  int64  \n",
            " 4   weather     10886 non-null  int64  \n",
            " 5   temp        10886 non-null  float64\n",
            " 6   atemp       10886 non-null  float64\n",
            " 7   humidity    10886 non-null  int64  \n",
            " 8   windspeed   10886 non-null  float64\n",
            " 9   casual      10886 non-null  int64  \n",
            " 10  registered  10886 non-null  int64  \n",
            " 11  count       10886 non-null  int64  \n",
            "dtypes: float64(3), int64(8), object(1)\n",
            "memory usage: 1020.7+ KB\n"
          ]
        }
      ]
    },
    {
      "cell_type": "code",
      "source": [
        "train.describe()"
      ],
      "metadata": {
        "colab": {
          "base_uri": "https://localhost:8080/",
          "height": 364
        },
        "id": "NjzUj16myrzg",
        "outputId": "5637a101-e65e-44f8-c1fb-97a5fe45e1b7"
      },
      "execution_count": null,
      "outputs": [
        {
          "output_type": "execute_result",
          "data": {
            "text/plain": [
              "             season       holiday    workingday       weather         temp  \\\n",
              "count  10886.000000  10886.000000  10886.000000  10886.000000  10886.00000   \n",
              "mean       2.506614      0.028569      0.680875      1.418427     20.23086   \n",
              "std        1.116174      0.166599      0.466159      0.633839      7.79159   \n",
              "min        1.000000      0.000000      0.000000      1.000000      0.82000   \n",
              "25%        2.000000      0.000000      0.000000      1.000000     13.94000   \n",
              "50%        3.000000      0.000000      1.000000      1.000000     20.50000   \n",
              "75%        4.000000      0.000000      1.000000      2.000000     26.24000   \n",
              "max        4.000000      1.000000      1.000000      4.000000     41.00000   \n",
              "\n",
              "              atemp      humidity     windspeed        casual    registered  \\\n",
              "count  10886.000000  10886.000000  10886.000000  10886.000000  10886.000000   \n",
              "mean      23.655084     61.886460     12.799395     36.021955    155.552177   \n",
              "std        8.474601     19.245033      8.164537     49.960477    151.039033   \n",
              "min        0.760000      0.000000      0.000000      0.000000      0.000000   \n",
              "25%       16.665000     47.000000      7.001500      4.000000     36.000000   \n",
              "50%       24.240000     62.000000     12.998000     17.000000    118.000000   \n",
              "75%       31.060000     77.000000     16.997900     49.000000    222.000000   \n",
              "max       45.455000    100.000000     56.996900    367.000000    886.000000   \n",
              "\n",
              "              count  \n",
              "count  10886.000000  \n",
              "mean     191.574132  \n",
              "std      181.144454  \n",
              "min        1.000000  \n",
              "25%       42.000000  \n",
              "50%      145.000000  \n",
              "75%      284.000000  \n",
              "max      977.000000  "
            ],
            "text/html": [
              "\n",
              "  <div id=\"df-5607977d-fcc9-4305-97e2-5f048feed5aa\">\n",
              "    <div class=\"colab-df-container\">\n",
              "      <div>\n",
              "<style scoped>\n",
              "    .dataframe tbody tr th:only-of-type {\n",
              "        vertical-align: middle;\n",
              "    }\n",
              "\n",
              "    .dataframe tbody tr th {\n",
              "        vertical-align: top;\n",
              "    }\n",
              "\n",
              "    .dataframe thead th {\n",
              "        text-align: right;\n",
              "    }\n",
              "</style>\n",
              "<table border=\"1\" class=\"dataframe\">\n",
              "  <thead>\n",
              "    <tr style=\"text-align: right;\">\n",
              "      <th></th>\n",
              "      <th>season</th>\n",
              "      <th>holiday</th>\n",
              "      <th>workingday</th>\n",
              "      <th>weather</th>\n",
              "      <th>temp</th>\n",
              "      <th>atemp</th>\n",
              "      <th>humidity</th>\n",
              "      <th>windspeed</th>\n",
              "      <th>casual</th>\n",
              "      <th>registered</th>\n",
              "      <th>count</th>\n",
              "    </tr>\n",
              "  </thead>\n",
              "  <tbody>\n",
              "    <tr>\n",
              "      <th>count</th>\n",
              "      <td>10886.000000</td>\n",
              "      <td>10886.000000</td>\n",
              "      <td>10886.000000</td>\n",
              "      <td>10886.000000</td>\n",
              "      <td>10886.00000</td>\n",
              "      <td>10886.000000</td>\n",
              "      <td>10886.000000</td>\n",
              "      <td>10886.000000</td>\n",
              "      <td>10886.000000</td>\n",
              "      <td>10886.000000</td>\n",
              "      <td>10886.000000</td>\n",
              "    </tr>\n",
              "    <tr>\n",
              "      <th>mean</th>\n",
              "      <td>2.506614</td>\n",
              "      <td>0.028569</td>\n",
              "      <td>0.680875</td>\n",
              "      <td>1.418427</td>\n",
              "      <td>20.23086</td>\n",
              "      <td>23.655084</td>\n",
              "      <td>61.886460</td>\n",
              "      <td>12.799395</td>\n",
              "      <td>36.021955</td>\n",
              "      <td>155.552177</td>\n",
              "      <td>191.574132</td>\n",
              "    </tr>\n",
              "    <tr>\n",
              "      <th>std</th>\n",
              "      <td>1.116174</td>\n",
              "      <td>0.166599</td>\n",
              "      <td>0.466159</td>\n",
              "      <td>0.633839</td>\n",
              "      <td>7.79159</td>\n",
              "      <td>8.474601</td>\n",
              "      <td>19.245033</td>\n",
              "      <td>8.164537</td>\n",
              "      <td>49.960477</td>\n",
              "      <td>151.039033</td>\n",
              "      <td>181.144454</td>\n",
              "    </tr>\n",
              "    <tr>\n",
              "      <th>min</th>\n",
              "      <td>1.000000</td>\n",
              "      <td>0.000000</td>\n",
              "      <td>0.000000</td>\n",
              "      <td>1.000000</td>\n",
              "      <td>0.82000</td>\n",
              "      <td>0.760000</td>\n",
              "      <td>0.000000</td>\n",
              "      <td>0.000000</td>\n",
              "      <td>0.000000</td>\n",
              "      <td>0.000000</td>\n",
              "      <td>1.000000</td>\n",
              "    </tr>\n",
              "    <tr>\n",
              "      <th>25%</th>\n",
              "      <td>2.000000</td>\n",
              "      <td>0.000000</td>\n",
              "      <td>0.000000</td>\n",
              "      <td>1.000000</td>\n",
              "      <td>13.94000</td>\n",
              "      <td>16.665000</td>\n",
              "      <td>47.000000</td>\n",
              "      <td>7.001500</td>\n",
              "      <td>4.000000</td>\n",
              "      <td>36.000000</td>\n",
              "      <td>42.000000</td>\n",
              "    </tr>\n",
              "    <tr>\n",
              "      <th>50%</th>\n",
              "      <td>3.000000</td>\n",
              "      <td>0.000000</td>\n",
              "      <td>1.000000</td>\n",
              "      <td>1.000000</td>\n",
              "      <td>20.50000</td>\n",
              "      <td>24.240000</td>\n",
              "      <td>62.000000</td>\n",
              "      <td>12.998000</td>\n",
              "      <td>17.000000</td>\n",
              "      <td>118.000000</td>\n",
              "      <td>145.000000</td>\n",
              "    </tr>\n",
              "    <tr>\n",
              "      <th>75%</th>\n",
              "      <td>4.000000</td>\n",
              "      <td>0.000000</td>\n",
              "      <td>1.000000</td>\n",
              "      <td>2.000000</td>\n",
              "      <td>26.24000</td>\n",
              "      <td>31.060000</td>\n",
              "      <td>77.000000</td>\n",
              "      <td>16.997900</td>\n",
              "      <td>49.000000</td>\n",
              "      <td>222.000000</td>\n",
              "      <td>284.000000</td>\n",
              "    </tr>\n",
              "    <tr>\n",
              "      <th>max</th>\n",
              "      <td>4.000000</td>\n",
              "      <td>1.000000</td>\n",
              "      <td>1.000000</td>\n",
              "      <td>4.000000</td>\n",
              "      <td>41.00000</td>\n",
              "      <td>45.455000</td>\n",
              "      <td>100.000000</td>\n",
              "      <td>56.996900</td>\n",
              "      <td>367.000000</td>\n",
              "      <td>886.000000</td>\n",
              "      <td>977.000000</td>\n",
              "    </tr>\n",
              "  </tbody>\n",
              "</table>\n",
              "</div>\n",
              "      <button class=\"colab-df-convert\" onclick=\"convertToInteractive('df-5607977d-fcc9-4305-97e2-5f048feed5aa')\"\n",
              "              title=\"Convert this dataframe to an interactive table.\"\n",
              "              style=\"display:none;\">\n",
              "        \n",
              "  <svg xmlns=\"http://www.w3.org/2000/svg\" height=\"24px\"viewBox=\"0 0 24 24\"\n",
              "       width=\"24px\">\n",
              "    <path d=\"M0 0h24v24H0V0z\" fill=\"none\"/>\n",
              "    <path d=\"M18.56 5.44l.94 2.06.94-2.06 2.06-.94-2.06-.94-.94-2.06-.94 2.06-2.06.94zm-11 1L8.5 8.5l.94-2.06 2.06-.94-2.06-.94L8.5 2.5l-.94 2.06-2.06.94zm10 10l.94 2.06.94-2.06 2.06-.94-2.06-.94-.94-2.06-.94 2.06-2.06.94z\"/><path d=\"M17.41 7.96l-1.37-1.37c-.4-.4-.92-.59-1.43-.59-.52 0-1.04.2-1.43.59L10.3 9.45l-7.72 7.72c-.78.78-.78 2.05 0 2.83L4 21.41c.39.39.9.59 1.41.59.51 0 1.02-.2 1.41-.59l7.78-7.78 2.81-2.81c.8-.78.8-2.07 0-2.86zM5.41 20L4 18.59l7.72-7.72 1.47 1.35L5.41 20z\"/>\n",
              "  </svg>\n",
              "      </button>\n",
              "      \n",
              "  <style>\n",
              "    .colab-df-container {\n",
              "      display:flex;\n",
              "      flex-wrap:wrap;\n",
              "      gap: 12px;\n",
              "    }\n",
              "\n",
              "    .colab-df-convert {\n",
              "      background-color: #E8F0FE;\n",
              "      border: none;\n",
              "      border-radius: 50%;\n",
              "      cursor: pointer;\n",
              "      display: none;\n",
              "      fill: #1967D2;\n",
              "      height: 32px;\n",
              "      padding: 0 0 0 0;\n",
              "      width: 32px;\n",
              "    }\n",
              "\n",
              "    .colab-df-convert:hover {\n",
              "      background-color: #E2EBFA;\n",
              "      box-shadow: 0px 1px 2px rgba(60, 64, 67, 0.3), 0px 1px 3px 1px rgba(60, 64, 67, 0.15);\n",
              "      fill: #174EA6;\n",
              "    }\n",
              "\n",
              "    [theme=dark] .colab-df-convert {\n",
              "      background-color: #3B4455;\n",
              "      fill: #D2E3FC;\n",
              "    }\n",
              "\n",
              "    [theme=dark] .colab-df-convert:hover {\n",
              "      background-color: #434B5C;\n",
              "      box-shadow: 0px 1px 3px 1px rgba(0, 0, 0, 0.15);\n",
              "      filter: drop-shadow(0px 1px 2px rgba(0, 0, 0, 0.3));\n",
              "      fill: #FFFFFF;\n",
              "    }\n",
              "  </style>\n",
              "\n",
              "      <script>\n",
              "        const buttonEl =\n",
              "          document.querySelector('#df-5607977d-fcc9-4305-97e2-5f048feed5aa button.colab-df-convert');\n",
              "        buttonEl.style.display =\n",
              "          google.colab.kernel.accessAllowed ? 'block' : 'none';\n",
              "\n",
              "        async function convertToInteractive(key) {\n",
              "          const element = document.querySelector('#df-5607977d-fcc9-4305-97e2-5f048feed5aa');\n",
              "          const dataTable =\n",
              "            await google.colab.kernel.invokeFunction('convertToInteractive',\n",
              "                                                     [key], {});\n",
              "          if (!dataTable) return;\n",
              "\n",
              "          const docLinkHtml = 'Like what you see? Visit the ' +\n",
              "            '<a target=\"_blank\" href=https://colab.research.google.com/notebooks/data_table.ipynb>data table notebook</a>'\n",
              "            + ' to learn more about interactive tables.';\n",
              "          element.innerHTML = '';\n",
              "          dataTable['output_type'] = 'display_data';\n",
              "          await google.colab.output.renderOutput(dataTable, element);\n",
              "          const docLink = document.createElement('div');\n",
              "          docLink.innerHTML = docLinkHtml;\n",
              "          element.appendChild(docLink);\n",
              "        }\n",
              "      </script>\n",
              "    </div>\n",
              "  </div>\n",
              "  "
            ]
          },
          "metadata": {},
          "execution_count": 22
        }
      ]
    },
    {
      "cell_type": "code",
      "source": [
        "train.isnull().sum()"
      ],
      "metadata": {
        "colab": {
          "base_uri": "https://localhost:8080/"
        },
        "id": "QcJRRt0mywoI",
        "outputId": "aa48669d-d1e5-44a2-f06f-6be40f2d0c65"
      },
      "execution_count": null,
      "outputs": [
        {
          "output_type": "execute_result",
          "data": {
            "text/plain": [
              "datetime      0\n",
              "season        0\n",
              "holiday       0\n",
              "workingday    0\n",
              "weather       0\n",
              "temp          0\n",
              "atemp         0\n",
              "humidity      0\n",
              "windspeed     0\n",
              "casual        0\n",
              "registered    0\n",
              "count         0\n",
              "dtype: int64"
            ]
          },
          "metadata": {},
          "execution_count": 23
        }
      ]
    },
    {
      "cell_type": "markdown",
      "source": [
        "## 2. datetime 컬럼을 datetime 자료형으로 변환하고 연, 월, 일, 시, 분, 초까지 6가지 컬럼 생성하기"
      ],
      "metadata": {
        "id": "s1P1bFivw75j"
      }
    },
    {
      "cell_type": "code",
      "source": [
        "train['datetime'] = train.datetime.apply(pd.to_datetime)"
      ],
      "metadata": {
        "id": "IbF_HKxpynPt"
      },
      "execution_count": null,
      "outputs": []
    },
    {
      "cell_type": "code",
      "source": [
        "train['year'] = train.datetime.apply(lambda x : x.year)\n",
        "train['month'] = train.datetime.apply(lambda x : x.month)\n",
        "train['day'] = train.datetime.apply(lambda x : x.day)\n",
        "train['hour'] = train.datetime.apply(lambda x : x.hour)\n",
        "train['minute'] = train.datetime.apply(lambda x : x.minute)\n",
        "train['second'] = train.datetime.apply(lambda x : x.second)"
      ],
      "metadata": {
        "id": "M9RCYgCd7l-v"
      },
      "execution_count": null,
      "outputs": []
    },
    {
      "cell_type": "markdown",
      "source": [
        "## 3. year, month, day, hour, minute, second 데이터 개수 시각화하기"
      ],
      "metadata": {
        "id": "6SUPKdWDw_cU"
      }
    },
    {
      "cell_type": "code",
      "source": [
        "f, ax = plt.subplots(2,3, figsize=(15,10))\n",
        "sns.countplot(x=train['year'], data=train, ax=ax[0,0])\n",
        "\n",
        "\n",
        "sns.countplot(x=train['month'], data=train, ax=ax[0,1])\n",
        "\n",
        "\n",
        "sns.countplot(x=train['day'], data=train, ax=ax[0,2])\n",
        "\n",
        "\n",
        "sns.countplot(x=train['hour'], data=train, ax=ax[1,0])\n",
        "\n",
        "\n",
        "sns.countplot(x=train['minute'], data=train, ax=ax[1,1])\n",
        "\n",
        "\n",
        "sns.countplot(x=train['second'], data=train ,ax=ax[1,2])\n",
        "plt.show()"
      ],
      "metadata": {
        "colab": {
          "base_uri": "https://localhost:8080/",
          "height": 568
        },
        "id": "7xgGAYCs_IYy",
        "outputId": "0c9af9a4-f4da-4826-ca9f-113d5ad7cf38"
      },
      "execution_count": null,
      "outputs": [
        {
          "output_type": "display_data",
          "data": {
            "text/plain": [
              "<Figure size 1080x720 with 6 Axes>"
            ],
            "image/png": "[encoded data removed]"
          },
          "metadata": {
            "needs_background": "light"
          }
        }
      ]
    },
    {
      "cell_type": "markdown",
      "source": [
        "## 4. X, y 컬럼 선택 및 train/test 데이터 분리"
      ],
      "metadata": {
        "id": "rzBnGAdbxCAr"
      }
    },
    {
      "cell_type": "code",
      "source": [
        "train.describe()"
      ],
      "metadata": {
        "colab": {
          "base_uri": "https://localhost:8080/",
          "height": 364
        },
        "id": "8mRW8n0eS4H4",
        "outputId": "0d3dc3fc-544a-4f22-9506-4adc4ba37526"
      },
      "execution_count": null,
      "outputs": [
        {
          "output_type": "execute_result",
          "data": {
            "text/plain": [
              "             season       holiday    workingday       weather         temp  \\\n",
              "count  10886.000000  10886.000000  10886.000000  10886.000000  10886.00000   \n",
              "mean       2.506614      0.028569      0.680875      1.418427     20.23086   \n",
              "std        1.116174      0.166599      0.466159      0.633839      7.79159   \n",
              "min        1.000000      0.000000      0.000000      1.000000      0.82000   \n",
              "25%        2.000000      0.000000      0.000000      1.000000     13.94000   \n",
              "50%        3.000000      0.000000      1.000000      1.000000     20.50000   \n",
              "75%        4.000000      0.000000      1.000000      2.000000     26.24000   \n",
              "max        4.000000      1.000000      1.000000      4.000000     41.00000   \n",
              "\n",
              "              atemp      humidity     windspeed        casual    registered  \\\n",
              "count  10886.000000  10886.000000  10886.000000  10886.000000  10886.000000   \n",
              "mean      23.655084     61.886460     12.799395     36.021955    155.552177   \n",
              "std        8.474601     19.245033      8.164537     49.960477    151.039033   \n",
              "min        0.760000      0.000000      0.000000      0.000000      0.000000   \n",
              "25%       16.665000     47.000000      7.001500      4.000000     36.000000   \n",
              "50%       24.240000     62.000000     12.998000     17.000000    118.000000   \n",
              "75%       31.060000     77.000000     16.997900     49.000000    222.000000   \n",
              "max       45.455000    100.000000     56.996900    367.000000    886.000000   \n",
              "\n",
              "              count          year         month           day          hour  \\\n",
              "count  10886.000000  10886.000000  10886.000000  10886.000000  10886.000000   \n",
              "mean     191.574132   2011.501929      6.521495      9.992559     11.541613   \n",
              "std      181.144454      0.500019      3.444373      5.476608      6.915838   \n",
              "min        1.000000   2011.000000      1.000000      1.000000      0.000000   \n",
              "25%       42.000000   2011.000000      4.000000      5.000000      6.000000   \n",
              "50%      145.000000   2012.000000      7.000000     10.000000     12.000000   \n",
              "75%      284.000000   2012.000000     10.000000     15.000000     18.000000   \n",
              "max      977.000000   2012.000000     12.000000     19.000000     23.000000   \n",
              "\n",
              "        minute   second  \n",
              "count  10886.0  10886.0  \n",
              "mean       0.0      0.0  \n",
              "std        0.0      0.0  \n",
              "min        0.0      0.0  \n",
              "25%        0.0      0.0  \n",
              "50%        0.0      0.0  \n",
              "75%        0.0      0.0  \n",
              "max        0.0      0.0  "
            ],
            "text/html": [
              "\n",
              "  <div id=\"df-24a29769-6afa-4c9f-b025-3781259ada46\">\n",
              "    <div class=\"colab-df-container\">\n",
              "      <div>\n",
              "<style scoped>\n",
              "    .dataframe tbody tr th:only-of-type {\n",
              "        vertical-align: middle;\n",
              "    }\n",
              "\n",
              "    .dataframe tbody tr th {\n",
              "        vertical-align: top;\n",
              "    }\n",
              "\n",
              "    .dataframe thead th {\n",
              "        text-align: right;\n",
              "    }\n",
              "</style>\n",
              "<table border=\"1\" class=\"dataframe\">\n",
              "  <thead>\n",
              "    <tr style=\"text-align: right;\">\n",
              "      <th></th>\n",
              "      <th>season</th>\n",
              "      <th>holiday</th>\n",
              "      <th>workingday</th>\n",
              "      <th>weather</th>\n",
              "      <th>temp</th>\n",
              "      <th>atemp</th>\n",
              "      <th>humidity</th>\n",
              "      <th>windspeed</th>\n",
              "      <th>casual</th>\n",
              "      <th>registered</th>\n",
              "      <th>count</th>\n",
              "      <th>year</th>\n",
              "      <th>month</th>\n",
              "      <th>day</th>\n",
              "      <th>hour</th>\n",
              "      <th>minute</th>\n",
              "      <th>second</th>\n",
              "    </tr>\n",
              "  </thead>\n",
              "  <tbody>\n",
              "    <tr>\n",
              "      <th>count</th>\n",
              "      <td>10886.000000</td>\n",
              "      <td>10886.000000</td>\n",
              "      <td>10886.000000</td>\n",
              "      <td>10886.000000</td>\n",
              "      <td>10886.00000</td>\n",
              "      <td>10886.000000</td>\n",
              "      <td>10886.000000</td>\n",
              "      <td>10886.000000</td>\n",
              "      <td>10886.000000</td>\n",
              "      <td>10886.000000</td>\n",
              "      <td>10886.000000</td>\n",
              "      <td>10886.000000</td>\n",
              "      <td>10886.000000</td>\n",
              "      <td>10886.000000</td>\n",
              "      <td>10886.000000</td>\n",
              "      <td>10886.0</td>\n",
              "      <td>10886.0</td>\n",
              "    </tr>\n",
              "    <tr>\n",
              "      <th>mean</th>\n",
              "      <td>2.506614</td>\n",
              "      <td>0.028569</td>\n",
              "      <td>0.680875</td>\n",
              "      <td>1.418427</td>\n",
              "      <td>20.23086</td>\n",
              "      <td>23.655084</td>\n",
              "      <td>61.886460</td>\n",
              "      <td>12.799395</td>\n",
              "      <td>36.021955</td>\n",
              "      <td>155.552177</td>\n",
              "      <td>191.574132</td>\n",
              "      <td>2011.501929</td>\n",
              "      <td>6.521495</td>\n",
              "      <td>9.992559</td>\n",
              "      <td>11.541613</td>\n",
              "      <td>0.0</td>\n",
              "      <td>0.0</td>\n",
              "    </tr>\n",
              "    <tr>\n",
              "      <th>std</th>\n",
              "      <td>1.116174</td>\n",
              "      <td>0.166599</td>\n",
              "      <td>0.466159</td>\n",
              "      <td>0.633839</td>\n",
              "      <td>7.79159</td>\n",
              "      <td>8.474601</td>\n",
              "      <td>19.245033</td>\n",
              "      <td>8.164537</td>\n",
              "      <td>49.960477</td>\n",
              "      <td>151.039033</td>\n",
              "      <td>181.144454</td>\n",
              "      <td>0.500019</td>\n",
              "      <td>3.444373</td>\n",
              "      <td>5.476608</td>\n",
              "      <td>6.915838</td>\n",
              "      <td>0.0</td>\n",
              "      <td>0.0</td>\n",
              "    </tr>\n",
              "    <tr>\n",
              "      <th>min</th>\n",
              "      <td>1.000000</td>\n",
              "      <td>0.000000</td>\n",
              "      <td>0.000000</td>\n",
              "      <td>1.000000</td>\n",
              "      <td>0.82000</td>\n",
              "      <td>0.760000</td>\n",
              "      <td>0.000000</td>\n",
              "      <td>0.000000</td>\n",
              "      <td>0.000000</td>\n",
              "      <td>0.000000</td>\n",
              "      <td>1.000000</td>\n",
              "      <td>2011.000000</td>\n",
              "      <td>1.000000</td>\n",
              "      <td>1.000000</td>\n",
              "      <td>0.000000</td>\n",
              "      <td>0.0</td>\n",
              "      <td>0.0</td>\n",
              "    </tr>\n",
              "    <tr>\n",
              "      <th>25%</th>\n",
              "      <td>2.000000</td>\n",
              "      <td>0.000000</td>\n",
              "      <td>0.000000</td>\n",
              "      <td>1.000000</td>\n",
              "      <td>13.94000</td>\n",
              "      <td>16.665000</td>\n",
              "      <td>47.000000</td>\n",
              "      <td>7.001500</td>\n",
              "      <td>4.000000</td>\n",
              "      <td>36.000000</td>\n",
              "      <td>42.000000</td>\n",
              "      <td>2011.000000</td>\n",
              "      <td>4.000000</td>\n",
              "      <td>5.000000</td>\n",
              "      <td>6.000000</td>\n",
              "      <td>0.0</td>\n",
              "      <td>0.0</td>\n",
              "    </tr>\n",
              "    <tr>\n",
              "      <th>50%</th>\n",
              "      <td>3.000000</td>\n",
              "      <td>0.000000</td>\n",
              "      <td>1.000000</td>\n",
              "      <td>1.000000</td>\n",
              "      <td>20.50000</td>\n",
              "      <td>24.240000</td>\n",
              "      <td>62.000000</td>\n",
              "      <td>12.998000</td>\n",
              "      <td>17.000000</td>\n",
              "      <td>118.000000</td>\n",
              "      <td>145.000000</td>\n",
              "      <td>2012.000000</td>\n",
              "      <td>7.000000</td>\n",
              "      <td>10.000000</td>\n",
              "      <td>12.000000</td>\n",
              "      <td>0.0</td>\n",
              "      <td>0.0</td>\n",
              "    </tr>\n",
              "    <tr>\n",
              "      <th>75%</th>\n",
              "      <td>4.000000</td>\n",
              "      <td>0.000000</td>\n",
              "      <td>1.000000</td>\n",
              "      <td>2.000000</td>\n",
              "      <td>26.24000</td>\n",
              "      <td>31.060000</td>\n",
              "      <td>77.000000</td>\n",
              "      <td>16.997900</td>\n",
              "      <td>49.000000</td>\n",
              "      <td>222.000000</td>\n",
              "      <td>284.000000</td>\n",
              "      <td>2012.000000</td>\n",
              "      <td>10.000000</td>\n",
              "      <td>15.000000</td>\n",
              "      <td>18.000000</td>\n",
              "      <td>0.0</td>\n",
              "      <td>0.0</td>\n",
              "    </tr>\n",
              "    <tr>\n",
              "      <th>max</th>\n",
              "      <td>4.000000</td>\n",
              "      <td>1.000000</td>\n",
              "      <td>1.000000</td>\n",
              "      <td>4.000000</td>\n",
              "      <td>41.00000</td>\n",
              "      <td>45.455000</td>\n",
              "      <td>100.000000</td>\n",
              "      <td>56.996900</td>\n",
              "      <td>367.000000</td>\n",
              "      <td>886.000000</td>\n",
              "      <td>977.000000</td>\n",
              "      <td>2012.000000</td>\n",
              "      <td>12.000000</td>\n",
              "      <td>19.000000</td>\n",
              "      <td>23.000000</td>\n",
              "      <td>0.0</td>\n",
              "      <td>0.0</td>\n",
              "    </tr>\n",
              "  </tbody>\n",
              "</table>\n",
              "</div>\n",
              "      <button class=\"colab-df-convert\" onclick=\"convertToInteractive('df-24a29769-6afa-4c9f-b025-3781259ada46')\"\n",
              "              title=\"Convert this dataframe to an interactive table.\"\n",
              "              style=\"display:none;\">\n",
              "        \n",
              "  <svg xmlns=\"http://www.w3.org/2000/svg\" height=\"24px\"viewBox=\"0 0 24 24\"\n",
              "       width=\"24px\">\n",
              "    <path d=\"M0 0h24v24H0V0z\" fill=\"none\"/>\n",
              "    <path d=\"M18.56 5.44l.94 2.06.94-2.06 2.06-.94-2.06-.94-.94-2.06-.94 2.06-2.06.94zm-11 1L8.5 8.5l.94-2.06 2.06-.94-2.06-.94L8.5 2.5l-.94 2.06-2.06.94zm10 10l.94 2.06.94-2.06 2.06-.94-2.06-.94-.94-2.06-.94 2.06-2.06.94z\"/><path d=\"M17.41 7.96l-1.37-1.37c-.4-.4-.92-.59-1.43-.59-.52 0-1.04.2-1.43.59L10.3 9.45l-7.72 7.72c-.78.78-.78 2.05 0 2.83L4 21.41c.39.39.9.59 1.41.59.51 0 1.02-.2 1.41-.59l7.78-7.78 2.81-2.81c.8-.78.8-2.07 0-2.86zM5.41 20L4 18.59l7.72-7.72 1.47 1.35L5.41 20z\"/>\n",
              "  </svg>\n",
              "      </button>\n",
              "      \n",
              "  <style>\n",
              "    .colab-df-container {\n",
              "      display:flex;\n",
              "      flex-wrap:wrap;\n",
              "      gap: 12px;\n",
              "    }\n",
              "\n",
              "    .colab-df-convert {\n",
              "      background-color: #E8F0FE;\n",
              "      border: none;\n",
              "      border-radius: 50%;\n",
              "      cursor: pointer;\n",
              "      display: none;\n",
              "      fill: #1967D2;\n",
              "      height: 32px;\n",
              "      padding: 0 0 0 0;\n",
              "      width: 32px;\n",
              "    }\n",
              "\n",
              "    .colab-df-convert:hover {\n",
              "      background-color: #E2EBFA;\n",
              "      box-shadow: 0px 1px 2px rgba(60, 64, 67, 0.3), 0px 1px 3px 1px rgba(60, 64, 67, 0.15);\n",
              "      fill: #174EA6;\n",
              "    }\n",
              "\n",
              "    [theme=dark] .colab-df-convert {\n",
              "      background-color: #3B4455;\n",
              "      fill: #D2E3FC;\n",
              "    }\n",
              "\n",
              "    [theme=dark] .colab-df-convert:hover {\n",
              "      background-color: #434B5C;\n",
              "      box-shadow: 0px 1px 3px 1px rgba(0, 0, 0, 0.15);\n",
              "      filter: drop-shadow(0px 1px 2px rgba(0, 0, 0, 0.3));\n",
              "      fill: #FFFFFF;\n",
              "    }\n",
              "  </style>\n",
              "\n",
              "      <script>\n",
              "        const buttonEl =\n",
              "          document.querySelector('#df-24a29769-6afa-4c9f-b025-3781259ada46 button.colab-df-convert');\n",
              "        buttonEl.style.display =\n",
              "          google.colab.kernel.accessAllowed ? 'block' : 'none';\n",
              "\n",
              "        async function convertToInteractive(key) {\n",
              "          const element = document.querySelector('#df-24a29769-6afa-4c9f-b025-3781259ada46');\n",
              "          const dataTable =\n",
              "            await google.colab.kernel.invokeFunction('convertToInteractive',\n",
              "                                                     [key], {});\n",
              "          if (!dataTable) return;\n",
              "\n",
              "          const docLinkHtml = 'Like what you see? Visit the ' +\n",
              "            '<a target=\"_blank\" href=https://colab.research.google.com/notebooks/data_table.ipynb>data table notebook</a>'\n",
              "            + ' to learn more about interactive tables.';\n",
              "          element.innerHTML = '';\n",
              "          dataTable['output_type'] = 'display_data';\n",
              "          await google.colab.output.renderOutput(dataTable, element);\n",
              "          const docLink = document.createElement('div');\n",
              "          docLink.innerHTML = docLinkHtml;\n",
              "          element.appendChild(docLink);\n",
              "        }\n",
              "      </script>\n",
              "    </div>\n",
              "  </div>\n",
              "  "
            ]
          },
          "metadata": {},
          "execution_count": 27
        }
      ]
    },
    {
      "cell_type": "code",
      "source": [
        "# target값인 count, count를 만든 casual+registered, 중복값이 datetime, 0값으로 무의미한 minute, second를 제거\n",
        "X = train.drop(['count', 'casual', 'registered','datetime','minute','second'],axis=1, inplace=False)\n",
        "y = train['count'].values"
      ],
      "metadata": {
        "id": "1LiuOskdMMhl"
      },
      "execution_count": null,
      "outputs": []
    },
    {
      "cell_type": "code",
      "source": [
        "from sklearn.model_selection import train_test_split\n",
        "\n",
        "X_train, X_test, y_train, y_test = train_test_split(X, y, test_size=0.2, random_state=3)\n",
        "\n",
        "print('X_train : ', X_train.shape, 'X_test : ', X_test.shape)\n",
        "print('y_train : ', y_train.shape, 'y_test : ',y_test.shape)"
      ],
      "metadata": {
        "colab": {
          "base_uri": "https://localhost:8080/"
        },
        "id": "hFMrv6mJBze5",
        "outputId": "d5b46051-64b9-42c2-9337-780b5b2327c3"
      },
      "execution_count": null,
      "outputs": [
        {
          "output_type": "stream",
          "name": "stdout",
          "text": [
            "X_train :  (8708, 12) X_test :  (2178, 12)\n",
            "y_train :  (8708,) y_test :  (2178,)\n"
          ]
        }
      ]
    },
    {
      "cell_type": "code",
      "source": [
        "X_train.describe()"
      ],
      "metadata": {
        "colab": {
          "base_uri": "https://localhost:8080/",
          "height": 364
        },
        "id": "H6148E9hpPQ4",
        "outputId": "a49ca5c8-22fd-410a-ebe2-b533e279a275"
      },
      "execution_count": null,
      "outputs": [
        {
          "output_type": "execute_result",
          "data": {
            "text/plain": [
              "            season      holiday   workingday      weather         temp  \\\n",
              "count  8708.000000  8708.000000  8708.000000  8708.000000  8708.000000   \n",
              "mean      2.502986     0.028594     0.679605     1.414676    20.254979   \n",
              "std       1.114184     0.166673     0.466655     0.631620     7.796549   \n",
              "min       1.000000     0.000000     0.000000     1.000000     0.820000   \n",
              "25%       2.000000     0.000000     0.000000     1.000000    13.940000   \n",
              "50%       3.000000     0.000000     1.000000     1.000000    20.500000   \n",
              "75%       3.000000     0.000000     1.000000     2.000000    26.240000   \n",
              "max       4.000000     1.000000     1.000000     4.000000    39.360000   \n",
              "\n",
              "             atemp     humidity    windspeed         year        month  \\\n",
              "count  8708.000000  8708.000000  8708.000000  8708.000000  8708.000000   \n",
              "mean     23.682855    61.809371    12.747072  2011.502641     6.513436   \n",
              "std       8.470709    19.300063     8.190628     0.500022     3.442041   \n",
              "min       0.760000     0.000000     0.000000  2011.000000     1.000000   \n",
              "25%      16.665000    46.000000     7.001500  2011.000000     4.000000   \n",
              "50%      24.240000    62.000000    12.998000  2012.000000     7.000000   \n",
              "75%      31.060000    77.000000    16.997900  2012.000000     9.000000   \n",
              "max      44.695000   100.000000    56.996900  2012.000000    12.000000   \n",
              "\n",
              "               day         hour  \n",
              "count  8708.000000  8708.000000  \n",
              "mean      9.983004    11.532154  \n",
              "std       5.499277     6.896168  \n",
              "min       1.000000     0.000000  \n",
              "25%       5.000000     6.000000  \n",
              "50%      10.000000    12.000000  \n",
              "75%      15.000000    17.000000  \n",
              "max      19.000000    23.000000  "
            ],
            "text/html": [
              "\n",
              "  <div id=\"df-c8dca4ff-8163-4538-98ec-8419098ae9e5\">\n",
              "    <div class=\"colab-df-container\">\n",
              "      <div>\n",
              "<style scoped>\n",
              "    .dataframe tbody tr th:only-of-type {\n",
              "        vertical-align: middle;\n",
              "    }\n",
              "\n",
              "    .dataframe tbody tr th {\n",
              "        vertical-align: top;\n",
              "    }\n",
              "\n",
              "    .dataframe thead th {\n",
              "        text-align: right;\n",
              "    }\n",
              "</style>\n",
              "<table border=\"1\" class=\"dataframe\">\n",
              "  <thead>\n",
              "    <tr style=\"text-align: right;\">\n",
              "      <th></th>\n",
              "      <th>season</th>\n",
              "      <th>holiday</th>\n",
              "      <th>workingday</th>\n",
              "      <th>weather</th>\n",
              "      <th>temp</th>\n",
              "      <th>atemp</th>\n",
              "      <th>humidity</th>\n",
              "      <th>windspeed</th>\n",
              "      <th>year</th>\n",
              "      <th>month</th>\n",
              "      <th>day</th>\n",
              "      <th>hour</th>\n",
              "    </tr>\n",
              "  </thead>\n",
              "  <tbody>\n",
              "    <tr>\n",
              "      <th>count</th>\n",
              "      <td>8708.000000</td>\n",
              "      <td>8708.000000</td>\n",
              "      <td>8708.000000</td>\n",
              "      <td>8708.000000</td>\n",
              "      <td>8708.000000</td>\n",
              "      <td>8708.000000</td>\n",
              "      <td>8708.000000</td>\n",
              "      <td>8708.000000</td>\n",
              "      <td>8708.000000</td>\n",
              "      <td>8708.000000</td>\n",
              "      <td>8708.000000</td>\n",
              "      <td>8708.000000</td>\n",
              "    </tr>\n",
              "    <tr>\n",
              "      <th>mean</th>\n",
              "      <td>2.502986</td>\n",
              "      <td>0.028594</td>\n",
              "      <td>0.679605</td>\n",
              "      <td>1.414676</td>\n",
              "      <td>20.254979</td>\n",
              "      <td>23.682855</td>\n",
              "      <td>61.809371</td>\n",
              "      <td>12.747072</td>\n",
              "      <td>2011.502641</td>\n",
              "      <td>6.513436</td>\n",
              "      <td>9.983004</td>\n",
              "      <td>11.532154</td>\n",
              "    </tr>\n",
              "    <tr>\n",
              "      <th>std</th>\n",
              "      <td>1.114184</td>\n",
              "      <td>0.166673</td>\n",
              "      <td>0.466655</td>\n",
              "      <td>0.631620</td>\n",
              "      <td>7.796549</td>\n",
              "      <td>8.470709</td>\n",
              "      <td>19.300063</td>\n",
              "      <td>8.190628</td>\n",
              "      <td>0.500022</td>\n",
              "      <td>3.442041</td>\n",
              "      <td>5.499277</td>\n",
              "      <td>6.896168</td>\n",
              "    </tr>\n",
              "    <tr>\n",
              "      <th>min</th>\n",
              "      <td>1.000000</td>\n",
              "      <td>0.000000</td>\n",
              "      <td>0.000000</td>\n",
              "      <td>1.000000</td>\n",
              "      <td>0.820000</td>\n",
              "      <td>0.760000</td>\n",
              "      <td>0.000000</td>\n",
              "      <td>0.000000</td>\n",
              "      <td>2011.000000</td>\n",
              "      <td>1.000000</td>\n",
              "      <td>1.000000</td>\n",
              "      <td>0.000000</td>\n",
              "    </tr>\n",
              "    <tr>\n",
              "      <th>25%</th>\n",
              "      <td>2.000000</td>\n",
              "      <td>0.000000</td>\n",
              "      <td>0.000000</td>\n",
              "      <td>1.000000</td>\n",
              "      <td>13.940000</td>\n",
              "      <td>16.665000</td>\n",
              "      <td>46.000000</td>\n",
              "      <td>7.001500</td>\n",
              "      <td>2011.000000</td>\n",
              "      <td>4.000000</td>\n",
              "      <td>5.000000</td>\n",
              "      <td>6.000000</td>\n",
              "    </tr>\n",
              "    <tr>\n",
              "      <th>50%</th>\n",
              "      <td>3.000000</td>\n",
              "      <td>0.000000</td>\n",
              "      <td>1.000000</td>\n",
              "      <td>1.000000</td>\n",
              "      <td>20.500000</td>\n",
              "      <td>24.240000</td>\n",
              "      <td>62.000000</td>\n",
              "      <td>12.998000</td>\n",
              "      <td>2012.000000</td>\n",
              "      <td>7.000000</td>\n",
              "      <td>10.000000</td>\n",
              "      <td>12.000000</td>\n",
              "    </tr>\n",
              "    <tr>\n",
              "      <th>75%</th>\n",
              "      <td>3.000000</td>\n",
              "      <td>0.000000</td>\n",
              "      <td>1.000000</td>\n",
              "      <td>2.000000</td>\n",
              "      <td>26.240000</td>\n",
              "      <td>31.060000</td>\n",
              "      <td>77.000000</td>\n",
              "      <td>16.997900</td>\n",
              "      <td>2012.000000</td>\n",
              "      <td>9.000000</td>\n",
              "      <td>15.000000</td>\n",
              "      <td>17.000000</td>\n",
              "    </tr>\n",
              "    <tr>\n",
              "      <th>max</th>\n",
              "      <td>4.000000</td>\n",
              "      <td>1.000000</td>\n",
              "      <td>1.000000</td>\n",
              "      <td>4.000000</td>\n",
              "      <td>39.360000</td>\n",
              "      <td>44.695000</td>\n",
              "      <td>100.000000</td>\n",
              "      <td>56.996900</td>\n",
              "      <td>2012.000000</td>\n",
              "      <td>12.000000</td>\n",
              "      <td>19.000000</td>\n",
              "      <td>23.000000</td>\n",
              "    </tr>\n",
              "  </tbody>\n",
              "</table>\n",
              "</div>\n",
              "      <button class=\"colab-df-convert\" onclick=\"convertToInteractive('df-c8dca4ff-8163-4538-98ec-8419098ae9e5')\"\n",
              "              title=\"Convert this dataframe to an interactive table.\"\n",
              "              style=\"display:none;\">\n",
              "        \n",
              "  <svg xmlns=\"http://www.w3.org/2000/svg\" height=\"24px\"viewBox=\"0 0 24 24\"\n",
              "       width=\"24px\">\n",
              "    <path d=\"M0 0h24v24H0V0z\" fill=\"none\"/>\n",
              "    <path d=\"M18.56 5.44l.94 2.06.94-2.06 2.06-.94-2.06-.94-.94-2.06-.94 2.06-2.06.94zm-11 1L8.5 8.5l.94-2.06 2.06-.94-2.06-.94L8.5 2.5l-.94 2.06-2.06.94zm10 10l.94 2.06.94-2.06 2.06-.94-2.06-.94-.94-2.06-.94 2.06-2.06.94z\"/><path d=\"M17.41 7.96l-1.37-1.37c-.4-.4-.92-.59-1.43-.59-.52 0-1.04.2-1.43.59L10.3 9.45l-7.72 7.72c-.78.78-.78 2.05 0 2.83L4 21.41c.39.39.9.59 1.41.59.51 0 1.02-.2 1.41-.59l7.78-7.78 2.81-2.81c.8-.78.8-2.07 0-2.86zM5.41 20L4 18.59l7.72-7.72 1.47 1.35L5.41 20z\"/>\n",
              "  </svg>\n",
              "      </button>\n",
              "      \n",
              "  <style>\n",
              "    .colab-df-container {\n",
              "      display:flex;\n",
              "      flex-wrap:wrap;\n",
              "      gap: 12px;\n",
              "    }\n",
              "\n",
              "    .colab-df-convert {\n",
              "      background-color: #E8F0FE;\n",
              "      border: none;\n",
              "      border-radius: 50%;\n",
              "      cursor: pointer;\n",
              "      display: none;\n",
              "      fill: #1967D2;\n",
              "      height: 32px;\n",
              "      padding: 0 0 0 0;\n",
              "      width: 32px;\n",
              "    }\n",
              "\n",
              "    .colab-df-convert:hover {\n",
              "      background-color: #E2EBFA;\n",
              "      box-shadow: 0px 1px 2px rgba(60, 64, 67, 0.3), 0px 1px 3px 1px rgba(60, 64, 67, 0.15);\n",
              "      fill: #174EA6;\n",
              "    }\n",
              "\n",
              "    [theme=dark] .colab-df-convert {\n",
              "      background-color: #3B4455;\n",
              "      fill: #D2E3FC;\n",
              "    }\n",
              "\n",
              "    [theme=dark] .colab-df-convert:hover {\n",
              "      background-color: #434B5C;\n",
              "      box-shadow: 0px 1px 3px 1px rgba(0, 0, 0, 0.15);\n",
              "      filter: drop-shadow(0px 1px 2px rgba(0, 0, 0, 0.3));\n",
              "      fill: #FFFFFF;\n",
              "    }\n",
              "  </style>\n",
              "\n",
              "      <script>\n",
              "        const buttonEl =\n",
              "          document.querySelector('#df-c8dca4ff-8163-4538-98ec-8419098ae9e5 button.colab-df-convert');\n",
              "        buttonEl.style.display =\n",
              "          google.colab.kernel.accessAllowed ? 'block' : 'none';\n",
              "\n",
              "        async function convertToInteractive(key) {\n",
              "          const element = document.querySelector('#df-c8dca4ff-8163-4538-98ec-8419098ae9e5');\n",
              "          const dataTable =\n",
              "            await google.colab.kernel.invokeFunction('convertToInteractive',\n",
              "                                                     [key], {});\n",
              "          if (!dataTable) return;\n",
              "\n",
              "          const docLinkHtml = 'Like what you see? Visit the ' +\n",
              "            '<a target=\"_blank\" href=https://colab.research.google.com/notebooks/data_table.ipynb>data table notebook</a>'\n",
              "            + ' to learn more about interactive tables.';\n",
              "          element.innerHTML = '';\n",
              "          dataTable['output_type'] = 'display_data';\n",
              "          await google.colab.output.renderOutput(dataTable, element);\n",
              "          const docLink = document.createElement('div');\n",
              "          docLink.innerHTML = docLinkHtml;\n",
              "          element.appendChild(docLink);\n",
              "        }\n",
              "      </script>\n",
              "    </div>\n",
              "  </div>\n",
              "  "
            ]
          },
          "metadata": {},
          "execution_count": 30
        }
      ]
    },
    {
      "cell_type": "code",
      "source": [
        "X_train.info()"
      ],
      "metadata": {
        "colab": {
          "base_uri": "https://localhost:8080/"
        },
        "id": "IdUfnA0vktPF",
        "outputId": "492709b4-93d9-4df4-c2a9-3c97b06d4898"
      },
      "execution_count": null,
      "outputs": [
        {
          "output_type": "stream",
          "name": "stdout",
          "text": [
            "<class 'pandas.core.frame.DataFrame'>\n",
            "Int64Index: 8708 entries, 5871 to 5994\n",
            "Data columns (total 12 columns):\n",
            " #   Column      Non-Null Count  Dtype  \n",
            "---  ------      --------------  -----  \n",
            " 0   season      8708 non-null   int64  \n",
            " 1   holiday     8708 non-null   int64  \n",
            " 2   workingday  8708 non-null   int64  \n",
            " 3   weather     8708 non-null   int64  \n",
            " 4   temp        8708 non-null   float64\n",
            " 5   atemp       8708 non-null   float64\n",
            " 6   humidity    8708 non-null   int64  \n",
            " 7   windspeed   8708 non-null   float64\n",
            " 8   year        8708 non-null   int64  \n",
            " 9   month       8708 non-null   int64  \n",
            " 10  day         8708 non-null   int64  \n",
            " 11  hour        8708 non-null   int64  \n",
            "dtypes: float64(3), int64(9)\n",
            "memory usage: 884.4 KB\n"
          ]
        }
      ]
    },
    {
      "cell_type": "markdown",
      "source": [
        "## 5. LinearRegression 모델 학습"
      ],
      "metadata": {
        "id": "zqOgG_9WxGF3"
      }
    },
    {
      "cell_type": "code",
      "source": [
        "from sklearn.linear_model import LinearRegression\n",
        "\n",
        "model = LinearRegression()\n",
        "model.fit(X_train, y_train)\n"
      ],
      "metadata": {
        "colab": {
          "base_uri": "https://localhost:8080/"
        },
        "id": "GL7ZpA5qi5hq",
        "outputId": "7e9974a8-8135-452d-b04d-192eaba72fb1"
      },
      "execution_count": null,
      "outputs": [
        {
          "output_type": "execute_result",
          "data": {
            "text/plain": [
              "LinearRegression()"
            ]
          },
          "metadata": {},
          "execution_count": 32
        }
      ]
    },
    {
      "cell_type": "markdown",
      "source": [
        "## 6. 학습된 모델로 X_test에 대한 예측값 출력 및 손실함수값 계산"
      ],
      "metadata": {
        "id": "Tc_bG-aWxHkR"
      }
    },
    {
      "cell_type": "code",
      "source": [
        "from sklearn.metrics import mean_squared_error, mean_absolute_error\n",
        "import numpy as np\n",
        "\n",
        "y_pred = model.predict(X_test)\n",
        "MSE =  mean_squared_error(y_test,y_pred)\n",
        "RMSE = np.sqrt(mean_squared_error(y_test, y_pred))\n",
        "print('MSE : {}, RMSE : {}'.format(MSE, RMSE))"
      ],
      "metadata": {
        "colab": {
          "base_uri": "https://localhost:8080/"
        },
        "id": "-shdTnu9rVSD",
        "outputId": "611b9ed5-7643-4387-92a4-815fb29d446b"
      },
      "execution_count": null,
      "outputs": [
        {
          "output_type": "stream",
          "name": "stdout",
          "text": [
            "MSE : 20111.99772946197, RMSE : 141.8167752047055\n"
          ]
        }
      ]
    },
    {
      "cell_type": "markdown",
      "source": [
        "## 7. x축은 temp 또는 humidity로, y축은 count로 예측 결과 시각화하기"
      ],
      "metadata": {
        "id": "vArjJd86xKWA"
      }
    },
    {
      "cell_type": "markdown",
      "source": [
        "### temp와 count 예측결과 시각화하기"
      ],
      "metadata": {
        "id": "-yxznsY8K6Ja"
      }
    },
    {
      "cell_type": "code",
      "source": [
        "plt.scatter(X_test['temp'], y_test)\n",
        "plt.scatter(X_test['temp'], y_pred)\n",
        "plt.show()"
      ],
      "metadata": {
        "id": "gtgCS7g6w2op",
        "colab": {
          "base_uri": "https://localhost:8080/",
          "height": 265
        },
        "outputId": "21f0eb55-0468-413d-db0f-bc5b9d130a5b"
      },
      "execution_count": null,
      "outputs": [
        {
          "output_type": "display_data",
          "data": {
            "text/plain": [
              "<Figure size 432x288 with 1 Axes>"
            ],
            "image/png": "[encoded data removed]"
          },
          "metadata": {
            "needs_background": "light"
          }
        }
      ]
    },
    {
      "cell_type": "markdown",
      "source": [
        "### humidity와 count로 예측결과 시각화하기"
      ],
      "metadata": {
        "id": "GecxuEqILBa1"
      }
    },
    {
      "cell_type": "code",
      "source": [
        "plt.scatter(X_test['humidity'], y_test)\n",
        "plt.scatter(X_test['humidity'], y_pred )\n",
        "plt.show()"
      ],
      "metadata": {
        "colab": {
          "base_uri": "https://localhost:8080/",
          "height": 265
        },
        "id": "CduftGuR98nK",
        "outputId": "22a151d9-adbe-4767-b064-4b16d24688cf"
      },
      "execution_count": null,
      "outputs": [
        {
          "output_type": "display_data",
          "data": {
            "text/plain": [
              "<Figure size 432x288 with 1 Axes>"
            ],
            "image/png": "[encoded data removed]"
          },
          "metadata": {
            "needs_background": "light"
          }
        }
      ]
    },
    {
      "cell_type": "markdown",
      "source": [
        "# 회고\n",
        "  - 프로젝트 하면서 공부하게 된 점\n",
        "    - seaborn 의 countplot를 쓸때는 data 인수에는 대상이 되는 데이터프레임을, x 인수에는 데이터프레임의 열 이름 문자열을 넣는다.\n",
        "  -  inplace=false은 저장 안함, 그리고 True는 저장함을 뜻한다.\n",
        "  - 하이퍼 파라미터 지정에 따라 값이 달라지는 것을 확인하며 파라미터 지정의 중요성을 알게 되었다.\n",
        "  \n",
        "\n",
        "  - error 사항\n",
        "    - plt.subplots를 사용할때 ax에 2차원 배열이면 그 형식에 맞게 지정해야 하는데 별 생각없이 1차원 배열 형식으로 지정해서 오류가 생겼었다.\n",
        "    - 예측결과가 너무 정확하게 나옴 그 이유는 casual과 registered를 합한 것이 count였기 때문이다. \n",
        "    \n",
        "  - 평가지표를 맞추기 위해 시도한 것\n",
        "    - 불필요한 컬럼들을 제거하여 RMSE 값을 맞출 수 있었다.\n",
        "    \n",
        "  - 나의 다짐\n",
        "    - 다음에는 요구사항과 데이터를 자세히 살피고 이해해야겠다. 데이터를 제대로 확인하지 않으니 예상치 못하게 100%에 가까운 정확도를 가져 올바르지 못한 모델을 만들게 되었다.\n",
        "    "
      ],
      "metadata": {
        "id": "v_FfE0RwKcug"
      }
    }
  ],
  "metadata": {
    "colab": {
      "machine_shape": "hm",
      "name": "[Exp-02]Regression with diabetes, bike.ipynb",
      "provenance": [],
      "collapsed_sections": [],
      "authorship_tag": "ABX9TyOjtlEmGn9sS6e6agNOKTJV",
      "include_colab_link": true
    },
    "gpuClass": "standard",
    "kernelspec": {
      "display_name": "Python 3",
      "name": "python3"
    },
    "language_info": {
      "name": "python"
    }
  },
  "nbformat": 4,
  "nbformat_minor": 0
}